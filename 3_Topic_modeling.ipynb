{
 "cells": [
  {
   "cell_type": "markdown",
   "metadata": {},
   "source": [
    "# Topic Modeling Lab\n",
    "\n",
    "### To do list:\n",
    "- Use sk-learn because\n",
    "    - It has both LDA and NMF\n",
    "    - It is the same API they'll use for many stats and ML tasks\n",
    "    - There's a good example guide here: https://medium.com/@aneesha/topic-modeling-with-scikit-learn-e80d33668730\n",
    "    \n",
    "- Steps \n",
    "    - preprocessing (use 'clean' data from lab notebook 1)\n",
    "    - fitting LDA\n",
    "    - viewing, interpreting topics\n",
    "    - cross tabs of topics and personal attributes of interest\n",
    "    - fitting NMF\n",
    "    - viewing, interpreting results\n",
    "    - comparing LDA & NMF topics (deal with alignment)\n",
    "    - cross tabs\n",
    "    - compare LDA & NMF cross tabs (undermine singular, objective truth)\n",
    "    \n",
    "- Functionality\n",
    "    - Display topics found\n",
    "    - Undo stems"
   ]
  },
  {
   "cell_type": "code",
   "execution_count": null,
   "metadata": {},
   "outputs": [],
   "source": [
    "import pandas as pd\n",
    "from sklearn.feature_extraction.text import TfidfVectorizer, CountVectorizer\n",
    "from sklearn.decomposition import NMF, LatentDirichletAllocation\n",
    "from bs4 import BeautifulSoup\n",
    "import re"
   ]
  },
  {
   "cell_type": "code",
   "execution_count": null,
   "metadata": {},
   "outputs": [],
   "source": [
    "profiles = pd.read_csv('data/clean_profiles.tsv', sep='\\t')\n",
    "profiles = profiles.sample(5000)\n",
    "profiles.head(2)"
   ]
  },
  {
   "cell_type": "code",
   "execution_count": null,
   "metadata": {},
   "outputs": [],
   "source": [
    "def clean(text):\n",
    "    t = BeautifulSoup(text, 'lxml').get_text()\n",
    "    t = t.lower()\n",
    "    \n",
    "    bad_words = ['http', 'www', '\\nnan']\n",
    "    \n",
    "    for b in bad_words:\n",
    "        t = t.replace(b, '')\n",
    "    \n",
    "    return t\n",
    "\n",
    "profiles['clean'] = profiles.text.apply(clean)\n",
    "profiles.head(2)"
   ]
  },
  {
   "cell_type": "code",
   "execution_count": null,
   "metadata": {},
   "outputs": [],
   "source": [
    "ntopics = 5\n",
    "documents = profiles.clean.values\n",
    "\n",
    "print(\"Vectorizing text by word counts...\")\n",
    "tf_vectorizer = CountVectorizer(max_df=0.95, min_df=2, \n",
    "                                max_features=1000, \n",
    "                                stop_words='english')\n",
    "tf = tf_vectorizer.fit_transform(documents)\n",
    "tf_feature_names = tf_vectorizer.get_feature_names()\n",
    "\n",
    "print('Performing LDA on vectors...')\n",
    "lda = LatentDirichletAllocation(n_components=ntopics, \n",
    "                                max_iter=10, \n",
    "                                learning_method='online', \n",
    "                                n_jobs=-1 ).fit(tf)\n",
    "\n",
    "print('Done!')"
   ]
  },
  {
   "cell_type": "code",
   "execution_count": null,
   "metadata": {},
   "outputs": [],
   "source": [
    "nshow = 10\n",
    "\n",
    "def display_topics(model, feature_names, no_top_words):\n",
    "    for topic_idx, topic in enumerate(model.components_):\n",
    "        words = \" \".join([feature_names[i] \n",
    "                          for i in topic.argsort()[:-no_top_words - 1:-1]])\n",
    "        print(\"Topic\", topic_idx, \":  \", words)\n",
    "                        \n",
    "display_topics(lda, tf_feature_names, no_top_words=nshow)"
   ]
  },
  {
   "cell_type": "code",
   "execution_count": null,
   "metadata": {},
   "outputs": [],
   "source": [
    "print(\"Vectorizing text by TF-IDF...\")\n",
    "tfidf_vectorizer = TfidfVectorizer(max_df=0.95, min_df=2, \n",
    "                                   max_features=1000, \n",
    "                                   stop_words='english')\n",
    "tfidf = tfidf_vectorizer.fit_transform(documents)\n",
    "tfidf_feature_names = tfidf_vectorizer.get_feature_names()\n",
    "\n",
    "print('Performing NMF on vectors...')\n",
    "nmf = NMF(n_components=ntopics, alpha=.1, l1_ratio=.5, init='nndsvd').fit(tfidf)\n",
    "\n",
    "print('Done!')"
   ]
  },
  {
   "cell_type": "code",
   "execution_count": null,
   "metadata": {},
   "outputs": [],
   "source": [
    "display_topics(nmf, tfidf_feature_names, nshow)"
   ]
  },
  {
   "cell_type": "code",
   "execution_count": null,
   "metadata": {
    "collapsed": true
   },
   "outputs": [],
   "source": []
  },
  {
   "cell_type": "code",
   "execution_count": null,
   "metadata": {
    "collapsed": true
   },
   "outputs": [],
   "source": []
  },
  {
   "cell_type": "code",
   "execution_count": null,
   "metadata": {
    "collapsed": true
   },
   "outputs": [],
   "source": []
  }
 ],
 "metadata": {
  "kernelspec": {
   "display_name": "Python 3",
   "language": "python",
   "name": "python3"
  },
  "language_info": {
   "codemirror_mode": {
    "name": "ipython",
    "version": 3
   },
   "file_extension": ".py",
   "mimetype": "text/x-python",
   "name": "python",
   "nbconvert_exporter": "python",
   "pygments_lexer": "ipython3",
   "version": "3.6.2"
  }
 },
 "nbformat": 4,
 "nbformat_minor": 2
}
