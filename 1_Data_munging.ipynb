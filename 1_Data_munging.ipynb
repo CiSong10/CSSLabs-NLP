{
 "cells": [
  {
   "cell_type": "markdown",
   "metadata": {},
   "source": [
    "# Data munging\n",
    "\n",
    "Most of the time and effort in projects using computational methods goes into data munging, the process of gathering, cleaning, and preparing data for our actual analysis. This notebook walks through that process with the OKCupid public profile data. You may either:\n",
    "1. Step through the code one cell at a time, readign the descriptions to learn how it works, or\n",
    "2. Run all the code here to prepare data for the other labs / notebooks. \n",
    "    - **Note:** You should check for errors after you run this. Common errors and what to do about them are documented below. \n",
    "    \n",
    "@Author: [Jeff Lockhart](http://www-personal.umich.edu/~jwlock/)"
   ]
  },
  {
   "cell_type": "markdown",
   "metadata": {},
   "source": [
    "## 0. Import libraries we'll use"
   ]
  },
  {
   "cell_type": "code",
   "execution_count": null,
   "metadata": {},
   "outputs": [],
   "source": [
    "import pandas as pd\n",
    "import numpy as np\n",
    "import urllib.request\n",
    "import os.path"
   ]
  },
  {
   "cell_type": "markdown",
   "metadata": {},
   "source": [
    "## 1. Download the data\n",
    "- This code checks whether you have downloaded the data yet.\n",
    "- If you have not, it downloads the data. "
   ]
  },
  {
   "cell_type": "code",
   "execution_count": null,
   "metadata": {},
   "outputs": [],
   "source": [
    "if os.path.isfile(\"data/profiles.csv.zip\"):\n",
    "    print(\"You already downloaded the data. Great!\")\n",
    "else:\n",
    "    print('Downloading file...')\n",
    "    urllib.request.urlretrieve(url=\"https://github.com/rudeboybert/JSE_OkCupid/raw/master/profiles.csv.zip\",\n",
    "                               filename=\"data/profiles.csv.zip\")"
   ]
  },
  {
   "cell_type": "markdown",
   "metadata": {},
   "source": [
    "## 2. Read the data into python using pandas"
   ]
  },
  {
   "cell_type": "code",
   "execution_count": null,
   "metadata": {},
   "outputs": [],
   "source": [
    "profiles = pd.read_csv('data/profiles.csv.zip')"
   ]
  },
  {
   "cell_type": "markdown",
   "metadata": {},
   "source": [
    "## 3. Selecting 18-59 year old users\n",
    "- Here we select within the profiles using the square brakcets `[]`.\n",
    "- We select cases where two things are true: `age < 60` and `age > 17`. The round brackets `()` are used to group our conditions, so that python knows `&` doesn't just mean the two things closest to it, i.e. `60 & profiles.age` (that code would not make sense).\n",
    "- We save the result, our list of profiles that meet those conditions, as our new `profiles` variable with the `=`."
   ]
  },
  {
   "cell_type": "code",
   "execution_count": null,
   "metadata": {},
   "outputs": [],
   "source": [
    "print(\"We started with\", profiles.shape[0], \"profiles.\")\n",
    "\n",
    "profiles = profiles[(profiles.age < 60) & (profiles.age > 17)]\n",
    "\n",
    "print(\"After selecting just those between 18 and 59, we have\", \n",
    "      profiles.shape[0], \"left.\")"
   ]
  },
  {
   "cell_type": "markdown",
   "metadata": {},
   "source": [
    "## 4. Grouping people by age\n",
    "\n",
    "### Defining functions to recode data\n",
    "- To change someone's exact age to their age group, we want to do something to the number. We can define the thing we want to do as a `function`. \n",
    "- Here are two functions that take some age `a` and convert it to an age group using these steps:\n",
    "    1. Divide someone's age by 10 (e.g. 34 becomes 3.4)\n",
    "    2. Convert that age to an integer (e.g. 3.4 becomes 3)\n",
    "    3. Multiply that integer by 10 (e.g. 3 becomes 30)\n",
    "    4. Turn that integer into a string / text \n",
    "- `group_age()` and `group_age_long()` do exactly the same thing, but the long one writes out each step so it is easier to follow.\n",
    "- The last line gives the function the number 34. As we wanted, it prints the result `'30'`."
   ]
  },
  {
   "cell_type": "code",
   "execution_count": null,
   "metadata": {},
   "outputs": [],
   "source": [
    "def group_age_long(a):\n",
    "    g = a / 10    #divide age by 10\n",
    "    g = int(g)    #convert age to an integer \n",
    "    g = g * 10    #multiply age by 10\n",
    "    g = str(g)    #convert the number to text / string\n",
    "    return g      #return the result\n",
    "\n",
    "def group_age(a):\n",
    "    return str(int(a/10)*10)\n",
    "\n",
    "group_age(34)"
   ]
  },
  {
   "cell_type": "markdown",
   "metadata": {},
   "source": [
    "### Apply\n",
    "- Apply is a powerful tool built into pandas. The logic is simple. Each person has an age, and we'd like to `apply` our age-grouping function to each one of those ages. \n",
    "- This code says \"go to the profiles data, look at the age column in it, and apply `group_age` to each of the things there.\n",
    "- We create a new column in the profiles data called `age_group`, and we set it equal to the result of the `group_age` function.\n",
    "- We then print the head of the relevant columns in order to check that we did it correctly."
   ]
  },
  {
   "cell_type": "code",
   "execution_count": null,
   "metadata": {
    "scrolled": true
   },
   "outputs": [],
   "source": [
    "profiles['age_group'] = profiles.age.apply(group_age)\n",
    "profiles[['age', 'age_group']].head(10)"
   ]
  },
  {
   "cell_type": "markdown",
   "metadata": {},
   "source": [
    "## 5. Grouping people by height\n",
    "1. We define a function, `height()`, that returns `under_6` if someone is under 6 feet (72 inches) tall and `over_6` otherwise.\n",
    "2. We apply that function to the column of our data that contains users' height.\n",
    "3. We save the result in a new column called `height_group`."
   ]
  },
  {
   "cell_type": "code",
   "execution_count": null,
   "metadata": {},
   "outputs": [],
   "source": [
    "def height(inches):\n",
    "    h = 'under_6'\n",
    "    if inches >= 72:\n",
    "        h = 'over_6'\n",
    "    return h\n",
    "\n",
    "profiles['height_group'] = profiles.height.apply(height)\n",
    "profiles[['height', 'height_group']].head(10)"
   ]
  },
  {
   "cell_type": "markdown",
   "metadata": {},
   "source": [
    "## 6. Merging text\n",
    "- The OKC data has 10 different columns with profile text, one for each long-answer question in users' profiles. We want to look at all of the profile text, so this merges it all together in a new column called `text`."
   ]
  },
  {
   "cell_type": "code",
   "execution_count": null,
   "metadata": {},
   "outputs": [],
   "source": [
    "# which columns have text in them\n",
    "essay_cols = ['essay0', 'essay1', 'essay2', 'essay3', 'essay4', 'essay5', 'essay6', \n",
    "              'essay7', 'essay8', 'essay9']\n",
    "\n",
    "def concat(row, cols):\n",
    "    tmp = []\n",
    "    for c in cols:\n",
    "        tmp.append(str(row[c]))\n",
    "    new = '\\n'.join(tmp)\n",
    "    return new\n",
    "\n",
    "profiles['text'] = profiles.apply(concat, axis=1, cols=essay_cols)"
   ]
  },
  {
   "cell_type": "markdown",
   "metadata": {},
   "source": [
    "## 7. Grouping categories\n",
    "- Much of our data comes in many or complicated categories. For example, there are more than 20 different levels of education in the education column. \n",
    "- We want to group these together so that they are easier to interpret\n",
    "\n",
    "#### This cell defines what categories we want and which people belong in them.\n",
    "- Each column we will recode has been given its own dictionary.\n",
    "- The keys of that dictionary are the new categories we want to make.\n",
    "- The value of each key is a list of values that should all be combined in that category.\n",
    "- In many cases, I have left out a default category to simplify the code."
   ]
  },
  {
   "cell_type": "code",
   "execution_count": null,
   "metadata": {},
   "outputs": [],
   "source": [
    "# education\n",
    "ed_levels = {'<HS': ['dropped out of high school', 'working on high school'],\n",
    "             'HS': ['graduated from high school', 'working on college/university', \n",
    "                    'two-year college', 'dropped out of college/university', \n",
    "                    'high school'], \n",
    "             'BA': ['graduated from college/university', \n",
    "                    'working on masters program', 'working on ph.d program', \n",
    "                    'college/university', 'working on law school', \n",
    "                    'dropped out of masters program', \n",
    "                    'dropped out of ph.d program', 'dropped out of law school', \n",
    "                    'dropped out of med school'],\n",
    "             'Grad_Pro': ['graduated from masters program',\n",
    "                          'graduated from ph.d program',                           \n",
    "                          'graduated from law school', \n",
    "                          'graduated from med school', 'masters program', \n",
    "                          'ph.d program', 'law school', 'med school']\n",
    "            }\n",
    "\n",
    "#body type\n",
    "bodies = {'average': ['average'], \n",
    "          'fit': ['fit', 'athletic', 'jacked'], \n",
    "          'thin': ['thin', 'skinny'], \n",
    "          'overweight': ['curvey', 'a little extra', 'full figured', 'overweight']\n",
    "         }\n",
    "\n",
    "# smoking\n",
    "smoke = {'no': ['no'], np.nan: ['nan']}\n",
    "\n",
    "# Has children\n",
    "kids = {'yes': ['has a kid', 'has kids']}\n",
    "\n",
    "#has pets\n",
    "has_pets = {'yes': ['has']}\n",
    "\n",
    "# alcohol use\n",
    "drinks = {'no': ['rarely', 'not at all']}\n",
    "\n",
    "# drug use\n",
    "drugs = {'no': ['never']}\n",
    "\n",
    "# Employment sector\n",
    "jobs = {'education': ['student', 'education'], \n",
    "        'STEM': ['science', 'computer'], \n",
    "        'business': ['sales', 'executive', 'banking'], \n",
    "        'creative': ['artistic', 'entertainment'], \n",
    "        'med_law': ['medicine', 'law'],\n",
    "        np.nan: ['nan']\n",
    "       }\n",
    "\n",
    "# religion \n",
    "religion = {'none': ['agnosticism', 'atheism'],\n",
    "            'catholicism': ['catholicism'],\n",
    "            'christianity': ['christianity'],\n",
    "            'judaism': ['judaism'],\n",
    "            'buddhism': ['buddhism'],\n",
    "            np.nan: ['nan']\n",
    "           }\n",
    "\n",
    "# languages spoken. People who list more than one langage have a comma between them\n",
    "# thus anyone with a comma in the languages column has more than one language\n",
    "languages = {'multiple': [',']}\n",
    "\n",
    "# race/ethnicity for exact matching\n",
    "ethn = {'White': ['white', 'middle eastern', 'middle eastern, white'], \n",
    "        'Asian': ['asian', 'indian', 'asian, pacific islander'], \n",
    "        'Black': ['black']\n",
    "       }   \n",
    "\n",
    "# race/ethnicityfor fuzzy matching\n",
    "ethn2 = {'Latinx': ['latin'], 'multiple': [','], np.nan: ['nan']}   "
   ]
  },
  {
   "cell_type": "markdown",
   "metadata": {},
   "source": [
    "#### Functions for figuring out which group someone belongs in"
   ]
  },
  {
   "cell_type": "code",
   "execution_count": null,
   "metadata": {},
   "outputs": [],
   "source": [
    "def recode(text, dictionary, default=np.nan):\n",
    "    '''Function for recoding categories in a column based on exact matches'''\n",
    "    out = default\n",
    "    text = str(text)\n",
    "    \n",
    "    for x in dictionary.keys():\n",
    "        for y in dictionary[x]:\n",
    "            if y == text: #exact match\n",
    "                out = x\n",
    "                return out\n",
    "    return out\n",
    "\n",
    "def recode_fuzzy(text, dictionary, default=np.nan):\n",
    "    '''Function for recoding categories in a column based on partial matches'''\n",
    "    out = default\n",
    "    text = str(text)\n",
    "    \n",
    "    for x in dictionary.keys():\n",
    "        for y in dictionary[x]:\n",
    "            if y in text: #partial match\n",
    "                out = x\n",
    "                return out\n",
    "    return out"
   ]
  },
  {
   "cell_type": "markdown",
   "metadata": {},
   "source": [
    "#### Use the functions and the categories we defined to recode the variables"
   ]
  },
  {
   "cell_type": "code",
   "execution_count": null,
   "metadata": {},
   "outputs": [],
   "source": [
    "profiles['edu'] = profiles.education.apply(recode, dictionary=ed_levels, \n",
    "                                            default='unknown')\n",
    "profiles['kids'] = profiles.offspring.apply(recode_fuzzy, dictionary=kids, \n",
    "                                            default='no')\n",
    "profiles['smoker'] = profiles.smokes.apply(recode, dictionary=smoke, \n",
    "                                            default='yes')\n",
    "profiles['body'] = profiles.body_type.apply(recode, dictionary=bodies, \n",
    "                                            default='unknown')\n",
    "profiles['alcohol_use'] = profiles.drinks.apply(recode, dictionary=drinks, \n",
    "                                            default='yes')\n",
    "profiles['drug_use'] = profiles.drugs.apply(recode, dictionary=drugs, \n",
    "                                            default='yes')\n",
    "profiles['industry'] = profiles.job.apply(recode_fuzzy, dictionary=jobs, \n",
    "                                            default='other')\n",
    "profiles['religion'] = profiles.religion.apply(recode_fuzzy, dictionary=religion, \n",
    "                                            default='other')\n",
    "profiles['languages'] = profiles.speaks.apply(recode_fuzzy, dictionary=languages, \n",
    "                                            default='English_only')"
   ]
  },
  {
   "cell_type": "code",
   "execution_count": null,
   "metadata": {
    "scrolled": true
   },
   "outputs": [],
   "source": [
    "profiles[['education', 'edu']].head(10)"
   ]
  },
  {
   "cell_type": "markdown",
   "metadata": {},
   "source": [
    "#### More complex recoding: race and ethnicity\n",
    "- Recoding race/ethnicity is more complex than most other variables. Indeed, it is a hotly debated topic in social science. \n",
    "- Here, we use a combination of exact matching and fuzzy matching to approximate the 2010 US Census categories.\n",
    "    - This function deviates from the census by creating exclusive Latinx category. \n",
    "    - Selecting just 'latin' and nothing else was the 3rd most frequent ethnicity in this data. \n",
    "    - The discision to include people who identified as both 'latin' and another race in 'Latinix' is based in research on Latinx people's experience with the US Census, but like all racial and ethnic categorization systems, it is flawed."
   ]
  },
  {
   "cell_type": "code",
   "execution_count": null,
   "metadata": {},
   "outputs": [],
   "source": [
    "def census_2010_ethnicity(t):\n",
    "    text = str(t)\n",
    "    e = recode(text, ethn, default='other')\n",
    "    if 'other' == e:\n",
    "        e = recode_fuzzy(text, ethn2, default='other')\n",
    "    return e\n",
    "\n",
    "profiles['race_ethnicity'] = profiles.ethnicity.apply(census_2010_ethnicity)"
   ]
  },
  {
   "cell_type": "markdown",
   "metadata": {},
   "source": [
    "#### Another odd case: pets\n",
    "- The pets data is a bit different than all the other data, so it was easier to write a separate function for it."
   ]
  },
  {
   "cell_type": "code",
   "execution_count": null,
   "metadata": {},
   "outputs": [],
   "source": [
    "def which_pets(t, criterion='has'):\n",
    "    '''Function for determining which pets someone has or likes'''\n",
    "    d = False\n",
    "    c = False\n",
    "    t = str(t)\n",
    "    p = 'neither'\n",
    "    if t == 'nan':\n",
    "        p = np.nan\n",
    "    \n",
    "    if 'has dogs' in t:\n",
    "        d = True\n",
    "    if 'has cats' in t:\n",
    "        c = True\n",
    "        \n",
    "    if criterion == 'likes':\n",
    "        if 'likes dogs' in t:\n",
    "            if 'dislikes dogs' not in t:\n",
    "                d = True\n",
    "        if 'likes cats' in t:\n",
    "            if 'dislikes cats' not in t:\n",
    "                c = True\n",
    "        \n",
    "    if c and d:\n",
    "        p = 'both'\n",
    "    elif c:\n",
    "        p = 'cats'\n",
    "    elif d:\n",
    "        p = 'dogs'\n",
    "        \n",
    "    return p"
   ]
  },
  {
   "cell_type": "code",
   "execution_count": null,
   "metadata": {},
   "outputs": [],
   "source": [
    "profiles['pets_likes'] = profiles.pets.apply(which_pets, criterion='likes')\n",
    "profiles['pets_has'] = profiles.pets.apply(which_pets, criterion='has')\n",
    "profiles['pets_any'] = profiles.pets.apply(recode_fuzzy, dictionary=has_pets, \n",
    "                                            default='no')"
   ]
  },
  {
   "cell_type": "markdown",
   "metadata": {},
   "source": [
    "## 8. Dropping unneeded columns\n",
    "- We created a lot of new columns so far, and we're not interested in all of the old columns. \n",
    "- This code selects just the columns we want to keep."
   ]
  },
  {
   "cell_type": "code",
   "execution_count": null,
   "metadata": {
    "scrolled": true
   },
   "outputs": [],
   "source": [
    "print('Initial columns:\\n', profiles.columns.values)\n",
    "profiles = profiles[['age_group', 'age', 'body', 'alcohol_use', 'drug_use', 'edu', \n",
    "                     'race_ethnicity', 'height_group', 'industry', 'kids', \n",
    "                     'orientation', 'pets_likes', 'pets_has', 'pets_any', \n",
    "                     'religion', 'sex', 'smoker', 'languages', 'text', 'essay0', \n",
    "                     'essay1', 'essay2', 'essay3', 'essay4', 'essay5', 'essay6', \n",
    "                     'essay7', 'essay8', 'essay9']]\n",
    "print('Final columns:\\n', profiles.columns.values)"
   ]
  },
  {
   "cell_type": "markdown",
   "metadata": {
    "code_folding": []
   },
   "source": [
    "## 9. Save the results\n",
    "This cell saves the cleaned up data to a file so we can use it again later."
   ]
  },
  {
   "cell_type": "code",
   "execution_count": null,
   "metadata": {},
   "outputs": [],
   "source": [
    "profiles.to_csv('data/clean_profiles.tsv', sep='\\t', index=False)"
   ]
  }
 ],
 "metadata": {
  "kernelspec": {
   "display_name": "Python 3",
   "language": "python",
   "name": "python3"
  },
  "language_info": {
   "codemirror_mode": {
    "name": "ipython",
    "version": 3
   },
   "file_extension": ".py",
   "mimetype": "text/x-python",
   "name": "python",
   "nbconvert_exporter": "python",
   "pygments_lexer": "ipython3",
   "version": "3.6.4"
  }
 },
 "nbformat": 4,
 "nbformat_minor": 2
}
