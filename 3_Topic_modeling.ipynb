{
 "cells": [
  {
   "cell_type": "markdown",
   "metadata": {},
   "source": [
    "# Topic Modeling Lab\n",
    "\n",
    "- In this lab, we'll learn about topic modeling. Topic modeling uses statistics to understand what text is about, that is, to find the topics in text.\n",
    "- We'll use the online dating profile text that OKCupid made public as our example, but of course topic modeling can be used on any text.\n",
    "- (Some of the code for this lab was adapted from [Aneesha Bakharia](https://medium.com/@aneesha/topic-modeling-with-scikit-learn-e80d33668730)'s example.)"
   ]
  },
  {
   "cell_type": "markdown",
   "metadata": {},
   "source": [
    "# 0. Setup and cleaning\n",
    "### Step 1: Import the packages we'll use"
   ]
  },
  {
   "cell_type": "code",
   "execution_count": 1,
   "metadata": {},
   "outputs": [],
   "source": [
    "import pandas as pd\n",
    "import numpy as np\n",
    "from scipy.cluster.hierarchy import linkage\n",
    "from scipy.stats.stats import pearsonr  \n",
    "from sklearn.feature_extraction.text import TfidfVectorizer, CountVectorizer\n",
    "from sklearn.decomposition import NMF, LatentDirichletAllocation\n",
    "from sklearn.metrics.pairwise import cosine_similarity\n",
    "from bs4 import BeautifulSoup\n",
    "import warnings\n",
    "import matplotlib.pyplot as plt\n",
    "%matplotlib inline"
   ]
  },
  {
   "cell_type": "markdown",
   "metadata": {},
   "source": [
    "### Step 2: Read in our data \n",
    "\n",
    "#### Important note: \n",
    "Before loading this data, you **must** run the code from section `0. Setup` in Lab `1. What is in a dating profile?`. This code prepares the data we'll be using."
   ]
  },
  {
   "cell_type": "code",
   "execution_count": 2,
   "metadata": {},
   "outputs": [
    {
     "data": {
      "text/html": [
       "<div>\n",
       "<style scoped>\n",
       "    .dataframe tbody tr th:only-of-type {\n",
       "        vertical-align: middle;\n",
       "    }\n",
       "\n",
       "    .dataframe tbody tr th {\n",
       "        vertical-align: top;\n",
       "    }\n",
       "\n",
       "    .dataframe thead th {\n",
       "        text-align: right;\n",
       "    }\n",
       "</style>\n",
       "<table border=\"1\" class=\"dataframe\">\n",
       "  <thead>\n",
       "    <tr style=\"text-align: right;\">\n",
       "      <th></th>\n",
       "      <th>age_group</th>\n",
       "      <th>age</th>\n",
       "      <th>body</th>\n",
       "      <th>alcohol_use</th>\n",
       "      <th>drug_use</th>\n",
       "      <th>edu</th>\n",
       "      <th>race_ethnicity</th>\n",
       "      <th>height_group</th>\n",
       "      <th>industry</th>\n",
       "      <th>kids</th>\n",
       "      <th>...</th>\n",
       "      <th>essay0</th>\n",
       "      <th>essay1</th>\n",
       "      <th>essay2</th>\n",
       "      <th>essay3</th>\n",
       "      <th>essay4</th>\n",
       "      <th>essay5</th>\n",
       "      <th>essay6</th>\n",
       "      <th>essay7</th>\n",
       "      <th>essay8</th>\n",
       "      <th>essay9</th>\n",
       "    </tr>\n",
       "  </thead>\n",
       "  <tbody>\n",
       "    <tr>\n",
       "      <th>0</th>\n",
       "      <td>20</td>\n",
       "      <td>22</td>\n",
       "      <td>overweight</td>\n",
       "      <td>yes</td>\n",
       "      <td>no</td>\n",
       "      <td>HS</td>\n",
       "      <td>multiple</td>\n",
       "      <td>over_6</td>\n",
       "      <td>other</td>\n",
       "      <td>no</td>\n",
       "      <td>...</td>\n",
       "      <td>about me:&lt;br /&gt;\\n&lt;br /&gt;\\ni would love to think...</td>\n",
       "      <td>currently working as an international agent fo...</td>\n",
       "      <td>making people laugh.&lt;br /&gt;\\nranting about a go...</td>\n",
       "      <td>the way i look. i am a six foot half asian, ha...</td>\n",
       "      <td>books:&lt;br /&gt;\\nabsurdistan, the republic, of mi...</td>\n",
       "      <td>food.&lt;br /&gt;\\nwater.&lt;br /&gt;\\ncell phone.&lt;br /&gt;\\n...</td>\n",
       "      <td>duality and humorous things</td>\n",
       "      <td>trying to find someone to hang out with. i am ...</td>\n",
       "      <td>i am new to california and looking for someone...</td>\n",
       "      <td>you want to be swept off your feet!&lt;br /&gt;\\nyou...</td>\n",
       "    </tr>\n",
       "    <tr>\n",
       "      <th>1</th>\n",
       "      <td>30</td>\n",
       "      <td>35</td>\n",
       "      <td>average</td>\n",
       "      <td>yes</td>\n",
       "      <td>yes</td>\n",
       "      <td>unknown</td>\n",
       "      <td>White</td>\n",
       "      <td>under_6</td>\n",
       "      <td>other</td>\n",
       "      <td>no</td>\n",
       "      <td>...</td>\n",
       "      <td>i am a chef: this is what that means.&lt;br /&gt;\\n1...</td>\n",
       "      <td>dedicating everyday to being an unbelievable b...</td>\n",
       "      <td>being silly. having ridiculous amonts of fun w...</td>\n",
       "      <td>NaN</td>\n",
       "      <td>i am die hard christopher moore fan. i don't r...</td>\n",
       "      <td>delicious porkness in all of its glories.&lt;br /...</td>\n",
       "      <td>NaN</td>\n",
       "      <td>NaN</td>\n",
       "      <td>i am very open and will share just about anyth...</td>\n",
       "      <td>NaN</td>\n",
       "    </tr>\n",
       "  </tbody>\n",
       "</table>\n",
       "<p>2 rows × 29 columns</p>\n",
       "</div>"
      ],
      "text/plain": [
       "   age_group  age        body alcohol_use drug_use      edu race_ethnicity  \\\n",
       "0         20   22  overweight         yes       no       HS       multiple   \n",
       "1         30   35     average         yes      yes  unknown          White   \n",
       "\n",
       "  height_group industry kids  \\\n",
       "0       over_6    other   no   \n",
       "1      under_6    other   no   \n",
       "\n",
       "                         ...                          \\\n",
       "0                        ...                           \n",
       "1                        ...                           \n",
       "\n",
       "                                              essay0  \\\n",
       "0  about me:<br />\\n<br />\\ni would love to think...   \n",
       "1  i am a chef: this is what that means.<br />\\n1...   \n",
       "\n",
       "                                              essay1  \\\n",
       "0  currently working as an international agent fo...   \n",
       "1  dedicating everyday to being an unbelievable b...   \n",
       "\n",
       "                                              essay2  \\\n",
       "0  making people laugh.<br />\\nranting about a go...   \n",
       "1  being silly. having ridiculous amonts of fun w...   \n",
       "\n",
       "                                              essay3  \\\n",
       "0  the way i look. i am a six foot half asian, ha...   \n",
       "1                                                NaN   \n",
       "\n",
       "                                              essay4  \\\n",
       "0  books:<br />\\nabsurdistan, the republic, of mi...   \n",
       "1  i am die hard christopher moore fan. i don't r...   \n",
       "\n",
       "                                              essay5  \\\n",
       "0  food.<br />\\nwater.<br />\\ncell phone.<br />\\n...   \n",
       "1  delicious porkness in all of its glories.<br /...   \n",
       "\n",
       "                        essay6  \\\n",
       "0  duality and humorous things   \n",
       "1                          NaN   \n",
       "\n",
       "                                              essay7  \\\n",
       "0  trying to find someone to hang out with. i am ...   \n",
       "1                                                NaN   \n",
       "\n",
       "                                              essay8  \\\n",
       "0  i am new to california and looking for someone...   \n",
       "1  i am very open and will share just about anyth...   \n",
       "\n",
       "                                              essay9  \n",
       "0  you want to be swept off your feet!<br />\\nyou...  \n",
       "1                                                NaN  \n",
       "\n",
       "[2 rows x 29 columns]"
      ]
     },
     "execution_count": 2,
     "metadata": {},
     "output_type": "execute_result"
    }
   ],
   "source": [
    "profiles = pd.read_csv('data/clean_profiles.tsv', sep='\\t')\n",
    "profiles.head(2)"
   ]
  },
  {
   "cell_type": "markdown",
   "metadata": {},
   "source": [
    "### Step 3: Pick which section of the profiles you want to analyze.\n",
    "#### Options:\n",
    "- text - All of the text from a profile\n",
    "- essay0 - My self summary\n",
    "- essay1 - What I’m doing with my life\n",
    "- essay2 - I’m really good at\n",
    "- essay3 - The first thing people usually notice about me\n",
    "- essay4 - Favorite books, movies, show, music, and food\n",
    "- essay5 - The six things I could never do without\n",
    "- essay6 - I spend a lot of time thinking about\n",
    "- essay7 - On a typical Friday night I am\n",
    "- essay8 - The most private thing I am willing to admit\n",
    "- essay9 - You should message me if...\n",
    "\n",
    "#### Replace `'essay0'` in the cell below with the essay you want to look at."
   ]
  },
  {
   "cell_type": "code",
   "execution_count": 3,
   "metadata": {},
   "outputs": [],
   "source": [
    "profile_section_to_use = 'essay0'"
   ]
  },
  {
   "cell_type": "markdown",
   "metadata": {},
   "source": [
    "### Step 4: Clean up the text for that essay.\n",
    "#### Helper function for cleaning up text\n",
    "- removes HTML code, link artifacts\n",
    "- converts to lowercase"
   ]
  },
  {
   "cell_type": "code",
   "execution_count": 4,
   "metadata": {},
   "outputs": [],
   "source": [
    "# Some of the essays have just a link in the text. BeautifulSoup sees that and gets \n",
    "# the wrong idea. This line hides those warnings.\n",
    "warnings.filterwarnings(\"ignore\", category=UserWarning, module='bs4')\n",
    "\n",
    "def clean(text):\n",
    "    if pd.isnull(text):\n",
    "        t = np.nan\n",
    "    else:\n",
    "        t = BeautifulSoup(text, 'lxml').get_text()\n",
    "        t = t.lower()\n",
    "\n",
    "        bad_words = ['http', 'www', '\\nnan']\n",
    "\n",
    "        for b in bad_words:\n",
    "            t = t.replace(b, '')\n",
    "    if t == '':\n",
    "        t = np.nan\n",
    "    \n",
    "    return t"
   ]
  },
  {
   "cell_type": "markdown",
   "metadata": {},
   "source": [
    "#### Clean and select the text."
   ]
  },
  {
   "cell_type": "code",
   "execution_count": 5,
   "metadata": {},
   "outputs": [
    {
     "name": "stdout",
     "output_type": "stream",
     "text": [
      "Cleaning up profile text for essay0 ...\n",
      "We started with 58785 profiles.\n",
      "Dropping profiles that didn't write anything for the essay we chose...\n",
      "We have 53396 profiles left.\n"
     ]
    }
   ],
   "source": [
    "print('Cleaning up profile text for', profile_section_to_use, '...')\n",
    "profiles['clean'] = profiles[profile_section_to_use].apply(clean)\n",
    "\n",
    "print('We started with', profiles.shape[0], 'profiles.')\n",
    "print(\"Dropping profiles that didn't write anything for the essay we chose...\")\n",
    "profiles.dropna(axis=0, subset=['clean'], inplace=True)\n",
    "\n",
    "#what we will use as our documents, here the cleaned up text of each profile\n",
    "documents = profiles['clean'].values\n",
    "\n",
    "print('We have', profiles.shape[0], 'profiles left.')"
   ]
  },
  {
   "cell_type": "markdown",
   "metadata": {},
   "source": [
    "# 1. Converting text to numbers for a topic model"
   ]
  },
  {
   "cell_type": "markdown",
   "metadata": {},
   "source": [
    "### Step 1: Convert text to numbers the computer understands\n",
    "- Our first model takes \"count vectors\" as input, that is, a count of how many times each word shows up in each document. \n",
    "    - Here we tell it to only use the 1,000 most popular words, ignoring stop words like \"a\" and \"of\".\n",
    "    - We use the abbreviation `tf` for these because they represent \"text frequency,\" i.e., how often each word shows up in text."
   ]
  },
  {
   "cell_type": "code",
   "execution_count": 6,
   "metadata": {},
   "outputs": [
    {
     "name": "stdout",
     "output_type": "stream",
     "text": [
      "Vectorizing text by word counts...\n",
      "Our transformed text has 53396 rows and 1000 columns.\n"
     ]
    }
   ],
   "source": [
    "tf_vectorizer = CountVectorizer(max_features=1000, stop_words='english')\n",
    "\n",
    "print(\"Vectorizing text by word counts...\")\n",
    "tf_text = tf_vectorizer.fit_transform(documents)\n",
    "\n",
    "tmp = tf_text.get_shape()\n",
    "print(\"Our transformed text has\", tmp[0], \"rows and\", tmp[1], \"columns.\")"
   ]
  },
  {
   "cell_type": "markdown",
   "metadata": {},
   "source": [
    "#### See what words are being counted"
   ]
  },
  {
   "cell_type": "code",
   "execution_count": 7,
   "metadata": {},
   "outputs": [
    {
     "name": "stdout",
     "output_type": "stream",
     "text": [
      "The first few words (alphabetically) are:\n",
      " ['10', '11', '12', '15', '20', '30', 'ability', 'able', 'abroad', 'absolutely', 'act', 'active', 'activities', 'activity', 'actually', 'add', 'admit', 'adventure', 'adventures', 'adventurous']\n"
     ]
    }
   ],
   "source": [
    "tf_feature_names = tf_vectorizer.get_feature_names()\n",
    "\n",
    "print(\"The first few words (alphabetically) are:\\n\", tf_feature_names[:20])"
   ]
  },
  {
   "cell_type": "markdown",
   "metadata": {},
   "source": [
    "#### See an example of how a profile's text is encoded\n",
    "- Change the value of `n` and re-run the code to see different profiles.\n",
    "- Note that only some of the words are counted. This is because we set `max_features=1000` in the vectorizor function, so it is only counting the 1,000 most common words and ignoring the rest. \n",
    "    - You can change that number to be bigger or smaller and see what happens.\n",
    "    - We found in Lab 1 that 1,000 is a good choice for this data because words less popular than that show up in less than 1% of all profiles."
   ]
  },
  {
   "cell_type": "code",
   "execution_count": 8,
   "metadata": {},
   "outputs": [
    {
     "name": "stdout",
     "output_type": "stream",
     "text": [
      "Profile text:\n",
      " life is about the little things. i love to laugh. it's easy to do\n",
      "when one can find beauty and humor in the ugly. this perspective\n",
      "makes for a more gratifying life. it's a gift. we are here to play.\n",
      "\n",
      "TF (count) vector:\n",
      "play 1\n",
      "humor 1\n",
      "beauty 1\n",
      "easy 1\n",
      "makes 1\n",
      "laugh 1\n",
      "little 1\n",
      "life 2\n",
      "things 1\n",
      "love 1\n"
     ]
    }
   ],
   "source": [
    "n = 6\n",
    "\n",
    "def show_vector(x):\n",
    "    rows,cols = x.nonzero()\n",
    "    for row,col in zip(rows,cols):\n",
    "        print(tf_feature_names[col], x[row,col])\n",
    "\n",
    "print('Profile text:\\n', documents[n])\n",
    "print('\\nTF (count) vector:')\n",
    "show_vector(tf_text[n])"
   ]
  },
  {
   "cell_type": "markdown",
   "metadata": {},
   "source": [
    "# 2. Build a topic model using LDA\n",
    "\n",
    "- LDA stands for Latent Dirichlet Allocation. The statistical math behind it is complicated, but its goals are simple:\n",
    "    - find groups of words that often show up together and call those groups topics. \n",
    "    - find topics that can be used to tell documents apart, i.e. topics that are in some documents but not others.\n",
    "- LDA is the most popular method for topic modeling.\n",
    "- [Learn more](https://en.wikipedia.org/wiki/Latent_Dirichlet_allocation) about LDA\n",
    "\n",
    "### Step 1: Decide how many topics we want to find\n",
    "- We must tell LDA how many topics we want it to look for (we did this above with the `ntopics` variable."
   ]
  },
  {
   "cell_type": "code",
   "execution_count": 9,
   "metadata": {},
   "outputs": [],
   "source": [
    "#how many topics we want our model to find\n",
    "ntopics = 15\n",
    "\n",
    "#how many top words we want to display for each topic\n",
    "nshow = 10"
   ]
  },
  {
   "cell_type": "markdown",
   "metadata": {},
   "source": [
    "### Step 2: Run the LDA algorithm\n",
    "- LDA can be a little slow. We'll use a faster method later on.\n",
    "- Set `n_jobs=` to the number of processors you want to use to compute LDA. If you set it to `-1`, it will use all available processors. "
   ]
  },
  {
   "cell_type": "code",
   "execution_count": 10,
   "metadata": {},
   "outputs": [
    {
     "name": "stdout",
     "output_type": "stream",
     "text": [
      "Performing LDA on vectors...\n",
      "Done!\n"
     ]
    }
   ],
   "source": [
    "model = LatentDirichletAllocation(n_components=ntopics, max_iter=10, \n",
    "                                  learning_method='online', n_jobs=-1)\n",
    "\n",
    "print('Performing LDA on vectors...')\n",
    "lda = model.fit(tf_text)\n",
    "lda_topics = lda.components_\n",
    "\n",
    "print('Done!')"
   ]
  },
  {
   "cell_type": "markdown",
   "metadata": {},
   "source": [
    "# 3. Interpret the topics the model gives us\n",
    "#### Some helper functions \n",
    "Don't worry about how these work right now. We'll use them to make our analysis easier later on."
   ]
  },
  {
   "cell_type": "code",
   "execution_count": 11,
   "metadata": {},
   "outputs": [],
   "source": [
    "def describe_topic(topic, feature_names, n_words=10):\n",
    "    words = []\n",
    "    # sort the words in the topic by importance\n",
    "    topic = topic.argsort() \n",
    "    # select the n_words most important words\n",
    "    topic = topic[:-n_words - 1:-1]\n",
    "    # for each important word, get it's name (i.e. the word) from our list of names\n",
    "    for i in topic:\n",
    "        words.append(feature_names[i])\n",
    "    # print the topic number and its most important words, separated by spaces\n",
    "    return \" \".join(words)\n",
    "\n",
    "def display_topics(components, feature_names, n_words=10):\n",
    "    # loop through each topic (component) in the model; show its top words\n",
    "    for topic_idx, topic in enumerate(components):\n",
    "        print(\"Topic {}:\".format(topic_idx), \n",
    "              describe_topic(topic, feature_names, n_words))\n",
    "    return\n",
    "\n",
    "def find_intersection(idxa, idxb, n):\n",
    "    a = set()\n",
    "    b = set()\n",
    "    both = set()\n",
    "    i = 0\n",
    "    while len(both) < n:\n",
    "        a.add(idxa[i])\n",
    "        b.add(idxb[i])\n",
    "        both = a.intersection(b)\n",
    "        i += 1\n",
    "    return list(both)\n",
    "\n",
    "def compare_topic_words(topics, a, b, words, how='overlap', n_words=nshow):\n",
    "    b_sort = False\n",
    "    if how == 'difference':\n",
    "        b_sort = True\n",
    "    \n",
    "    dfa = pd.DataFrame(topics, columns=words).T\n",
    "    idxa = dfa.sort_values(by=a, ascending=False).index.values\n",
    "    idxb = dfa.sort_values(by=b, ascending=b_sort).index.values\n",
    "    both = find_intersection(idxa, idxb, n=n_words)\n",
    "    \n",
    "    out = how + ' between ' + str(a) + ' and ' + str(b) + ':'\n",
    "    for w in both:\n",
    "        out += ' ' + w\n",
    "    print(out)\n",
    "    return\n",
    "\n",
    "def blue_matrix(cells, x_labels=None):\n",
    "    n = cells.shape[0]\n",
    "    plt.figure()\n",
    "    fig, ax = plt.subplots(figsize=(8,8))\n",
    "    plt.imshow(cells, cmap='Blues')\n",
    "    ax.xaxis.tick_top()\n",
    "    if x_labels is not None:\n",
    "        plt.xticks(range(n), x_labels)\n",
    "    else:\n",
    "        plt.xticks(range(n))\n",
    "    plt.yticks(range(n))\n",
    "    # show a colorbar legend\n",
    "    plt.colorbar()\n",
    "    return\n",
    "\n",
    "def plot_topics(components):\n",
    "    n = components.shape[0]\n",
    "    # sort topics into similar groups\n",
    "    blue_matrix(cosine_similarity(components))\n",
    "    return"
   ]
  },
  {
   "cell_type": "markdown",
   "metadata": {},
   "source": [
    "### Step 1: Show our topics with the top words in each"
   ]
  },
  {
   "cell_type": "code",
   "execution_count": 12,
   "metadata": {},
   "outputs": [
    {
     "name": "stdout",
     "output_type": "stream",
     "text": [
      "Topic 0: love like enjoy music new good things friends time people\n",
      "Topic 1: looking life good friends love open fun person relationship honest\n",
      "Topic 2: hiking hanging experiences road trips trip camping biking weekend outdoors\n",
      "Topic 3: humor sense nerd art science music interests sarcastic middle politics\n",
      "Topic 4: life love things people world live make try believe want\n",
      "Topic 5: like don think ve really pretty just little know say\n",
      "Topic 6: east coast school college york west com went decided california\n",
      "Topic 7: just people know like want don really new meet things\n",
      "Topic 8: man woman love life lover heart loves dogs confident loving\n",
      "Topic 9: love day ve world art good work music dance life\n",
      "Topic 10: self rock summary change work okcupid wrong climbing ass shit\n",
      "Topic 11: im hi student chill dont just cats school lets deeply\n",
      "Topic 12: bay years area new ve love moved sf lived time\n",
      "Topic 13: going easy fun games guy outgoing pretty hard play video\n",
      "Topic 14: san francisco city moved living years dream live yeah just\n"
     ]
    }
   ],
   "source": [
    "display_topics(lda_topics, tf_feature_names, n_words=nshow)"
   ]
  },
  {
   "cell_type": "markdown",
   "metadata": {},
   "source": [
    "### Step 2: Examine the words that make two topics similar or different\n",
    "- We can also compare two topics to each other by looking at words that are common in both, or words that are common in one but not the other.\n",
    "- Try changing `topic_a` and `topic_b` to different topic numbers.\n",
    "- Notice the `how` option will let you see either the `overlap` or `difference` between two topics\n",
    "    - Notice also that the difference between topics a and b is not the same as between b and a"
   ]
  },
  {
   "cell_type": "code",
   "execution_count": 13,
   "metadata": {},
   "outputs": [
    {
     "name": "stdout",
     "output_type": "stream",
     "text": [
      "overlap between 0 and 2: outdoors exploring dancing new beach travel traveling cooking hiking friends\n",
      "difference between 0 and 2: giants sleep drink play baseball watch watching tv football listen\n",
      "difference between 2 and 0: salsa trip japan trips road hip lake experiences hop weekend\n"
     ]
    }
   ],
   "source": [
    "topic_a = 0\n",
    "topic_b = 2\n",
    "\n",
    "compare_topic_words(lda_topics, topic_a, topic_b, tf_feature_names, how='overlap', n_words=nshow)\n",
    "compare_topic_words(lda_topics, topic_a, topic_b, tf_feature_names, how='difference', n_words=nshow)\n",
    "compare_topic_words(lda_topics, topic_b, topic_a, tf_feature_names, how='difference', n_words=nshow)"
   ]
  },
  {
   "cell_type": "markdown",
   "metadata": {},
   "source": [
    "### Step 3: Interpret these topics\n",
    "- This part is for you to do: code can't do it for you.\n",
    "- Look at the list of important words for each topic, and think about these questions.\n",
    "    - What do the words have in common?\n",
    "    - What could someone write that would use most of those words?\n",
    "    - What does this topic seem to be about?\n",
    "- Try to come up with a short, catchy name for each topic.\n",
    "    - For example, if the words were \"san francisco city moved living born years raised lived live\", you might call it \"places lived\" because the topic seems to be about where people currently live (San Francisco) and where they were born / raised / moved from. \n",
    "- Try other numbers of topics.\n",
    "    - If the topics seem repetitive, you might want to try looking for fewer topics.\n",
    "    - If the topics seem confusing or vague, you might want to try looking for more topics (so that they can be more specific).\n",
    "    \n",
    "### Step 4: Check whether your interpretations match with the text\n",
    "\n",
    "#### Helper function"
   ]
  },
  {
   "cell_type": "code",
   "execution_count": 14,
   "metadata": {},
   "outputs": [],
   "source": [
    "def get_profiles_from_topics(data, transformed, topic_a, topic_b=None, pick_from=10):\n",
    "    df = pd.DataFrame(transformed)\n",
    "    df = df.sort_values(by=topic_a, ascending=False)\n",
    "    match_text = ''\n",
    "    \n",
    "    if topic_b is None:\n",
    "        keep = df.head(pick_from).sample(1)\n",
    "        pid = keep.index.values[0]\n",
    "    else:\n",
    "        idxb = df.sort_values(by=topic_b, ascending=False).index.values\n",
    "        both = find_intersection(df.index.values, idxb, pick_from)\n",
    "        keep = df.loc[both, :].sample(1)\n",
    "        pid = keep.index.values[0]        \n",
    "        \n",
    "    match_text = 'Profile number ' + str(pid)\n",
    "    match_text += ' is the number ' + str(np.where(df.index==pid)[0][0])\n",
    "    match_text += ' profile for topic ' + str(topic_a)\n",
    "    if topic_b is not None:\n",
    "        match_text += ' and the number ' + str(np.where(idxb==pid)[0][0])\n",
    "        match_text += ' profile for topic ' + str(topic_b)\n",
    "        \n",
    "    text = data[pid]\n",
    "    print(match_text)\n",
    "    print('Here is the text:\\n\\n', text)\n",
    "    return\n",
    "\n",
    "\n",
    "def visualize_profile(profile_topics, profile_id):\n",
    "    # plot a stem diagram for a single profile\n",
    "    plt.figure(figsize=(8,4))\n",
    "    plt.xticks(range(profile_topics.shape[1]))\n",
    "    plt.xlabel('Topic number')\n",
    "    plt.ylabel('How much of profile is about each topic')\n",
    "    plt.title('Profile #'+str(profile_id))\n",
    "    plt.stem(profile_topics[profile_id,:])\n",
    "    return"
   ]
  },
  {
   "cell_type": "markdown",
   "metadata": {},
   "source": [
    "#### Figure out how much of each topic is in each profile"
   ]
  },
  {
   "cell_type": "code",
   "execution_count": 15,
   "metadata": {},
   "outputs": [],
   "source": [
    "profile_topics = lda.transform(tf_text)"
   ]
  },
  {
   "cell_type": "markdown",
   "metadata": {},
   "source": [
    "#### Look at the text of a profile that has a lot of a particular topic\n",
    "- This function randomly picks one of the top few profiles for a topic, so each time you run it you will see a different example.\n",
    "    - If you want it to pick from more or less topics, change the value of `pick_from`\n",
    "    - If you want to see a different topic, change the value of `topic_a`\n",
    "    - **Hint:** you can press `ctrl`+`enter` over and over to keep re-running the code in this cell."
   ]
  },
  {
   "cell_type": "code",
   "execution_count": 16,
   "metadata": {},
   "outputs": [
    {
     "name": "stdout",
     "output_type": "stream",
     "text": [
      "Profile number 34756 is the number 4 profile for topic 0\n",
      "Here is the text:\n",
      "\n",
      " i like to be active, have fun, and laugh a lot.\n",
      "i like to enjoy the little things in life.\n",
      "i wish drinking beers while being at a concert in a park was a\n",
      "legit occupation.\n",
      "i like to surround myself with good people.\n",
      "i am always up for trying something new.\n"
     ]
    }
   ],
   "source": [
    "get_profiles_from_topics(documents, profile_topics, topic_a=0, pick_from=20)"
   ]
  },
  {
   "cell_type": "markdown",
   "metadata": {},
   "source": [
    "#### Look at the text of a profile that matches two topics well at the same time\n",
    "- Note that some topics might not happen together very often. If this is the case, the examples we find of both together might not be very good."
   ]
  },
  {
   "cell_type": "code",
   "execution_count": 17,
   "metadata": {},
   "outputs": [
    {
     "name": "stdout",
     "output_type": "stream",
     "text": [
      "Profile number 48886 is the number 758 profile for topic 0 and the number 736 profile for topic 2\n",
      "Here is the text:\n",
      "\n",
      " i love to skateboard. i listen to punk, metal, classic rock, goth,\n",
      "dub step, and under ground hip-hop. i really love music. i base my\n",
      "hole life around it. right now i'm trying to get my g.e.d\n"
     ]
    }
   ],
   "source": [
    "get_profiles_from_topics(documents, profile_topics, topic_a=0, topic_b=2)"
   ]
  },
  {
   "cell_type": "markdown",
   "metadata": {},
   "source": [
    "#### See how much of a profile is about each topic\n",
    "- Try looking at some of the profiles you just found:\n",
    "    - Make the `pid` equal to the profile number from above."
   ]
  },
  {
   "cell_type": "code",
   "execution_count": 18,
   "metadata": {},
   "outputs": [
    {
     "data": {
      "image/png": "[encoded data removed]",
      "text/plain": [
       "<matplotlib.figure.Figure at 0x7fb080389160>"
      ]
     },
     "metadata": {},
     "output_type": "display_data"
    }
   ],
   "source": [
    "pid = 44702\n",
    "visualize_profile(profile_topics, profile_id=pid)"
   ]
  },
  {
   "cell_type": "markdown",
   "metadata": {},
   "source": [
    "# 4. Quality of topics\n",
    "\n",
    "### Step 1: See how similar the words in each topic are to the words in other topics\n",
    "We can compare topics visually by plotting the similarity of each topic to each other topic. How to interpret:\n",
    "- Each square shows how similar two topics are. Darker means more similar, and lighter means more different.\n",
    "- The square in the very top right shows how similar topic 0 is to topic 0 (i.e. how similar it is to itself). \n",
    "- The square next to it in the top row shows how similar topic 0 is to topic 1, and so on. \n",
    "- For any two topics, you can see how similar they are by finding their numbers on the edge and seeing where they intersect."
   ]
  },
  {
   "cell_type": "code",
   "execution_count": 19,
   "metadata": {},
   "outputs": [
    {
     "data": {
      "text/plain": [
       "<matplotlib.figure.Figure at 0x7fb08011f7b8>"
      ]
     },
     "metadata": {},
     "output_type": "display_data"
    },
    {
     "data": {
      "image/png": "[encoded data removed]",
      "text/plain": [
       "<matplotlib.figure.Figure at 0x7fb080247908>"
      ]
     },
     "metadata": {},
     "output_type": "display_data"
    }
   ],
   "source": [
    "plot_topics(lda_topics)"
   ]
  },
  {
   "cell_type": "markdown",
   "metadata": {},
   "source": [
    "### Step 2: See how often topics show up together in the same profiles\n",
    "\n",
    "- This shows us something that looks similar to the topic similarity we saw before, but this time:\n",
    "    - We don't compare topics based on which words they use\n",
    "    - We do compare topics based on how often they appear in the same profile as one another\n",
    "- Why is the diagonal line so dark?"
   ]
  },
  {
   "cell_type": "code",
   "execution_count": 20,
   "metadata": {
    "scrolled": false
   },
   "outputs": [
    {
     "data": {
      "text/plain": [
       "<matplotlib.figure.Figure at 0x7fb07fd58908>"
      ]
     },
     "metadata": {},
     "output_type": "display_data"
    },
    {
     "data": {
      "image/png": "[encoded data removed]",
      "text/plain": [
       "<matplotlib.figure.Figure at 0x7fb07fd540b8>"
      ]
     },
     "metadata": {},
     "output_type": "display_data"
    }
   ],
   "source": [
    "def topic_cooccurance(topics):\n",
    "    n = topics.shape[1]\n",
    "    m = pd.DataFrame(topics).corr()\n",
    "    blue_matrix(m)\n",
    "\n",
    "topic_cooccurance(profile_topics)"
   ]
  },
  {
   "cell_type": "markdown",
   "metadata": {},
   "source": [
    "#### Note that the topics are mostly uncorrelated. \n",
    "- The cells in the figure above are mostly very light blue\n",
    "- This doesn't mean that, for instance, topic 1 and 2 never show up in the same profile.\n",
    "- It does mean, however, that seeing any particular topic doesn't mean we're especially likely to also see any other topic.\n",
    "\n",
    "#### Just because they're uncorrelated doesn't mean there isn't a pattern in the relationship between two topics\n",
    "- This makes a scatterplot where each dot is a profile\n",
    "- The dot's X and Y position show how much of a profile is about each topic\n",
    "- Try different topic combinations.\n",
    "- Do the profiles cluster into distinct groups?\n",
    "- What might these groups mean?"
   ]
  },
  {
   "cell_type": "code",
   "execution_count": 21,
   "metadata": {},
   "outputs": [
    {
     "data": {
      "image/png": "[encoded data removed]",
      "text/plain": [
       "<matplotlib.figure.Figure at 0x7fb07fb7f400>"
      ]
     },
     "metadata": {},
     "output_type": "display_data"
    }
   ],
   "source": [
    "def profile_scatter(profile_topics, topic_x_id, topic_y_id):\n",
    "    # create a scatter plot of profiles with each axis representing one topic\n",
    "    plt.figure(figsize=(8,8))\n",
    "    plt.loglog(profile_topics[:,topic_x_id], profile_topics[:,topic_y_id], '.', markersize=1)\n",
    "    plt.xlabel('Amount of topic {}'.format(topic_x_id))\n",
    "    plt.ylabel('Amount of topic {}'.format(topic_y_id))\n",
    "\n",
    "profile_scatter(profile_topics, topic_x_id=1, topic_y_id=6)"
   ]
  },
  {
   "cell_type": "markdown",
   "metadata": {},
   "source": [
    "# 5. Topic popularity\n",
    "\n",
    "#### Helper functions to visualize and compare topics\n"
   ]
  },
  {
   "cell_type": "code",
   "execution_count": 64,
   "metadata": {},
   "outputs": [],
   "source": [
    "def common_topics_bars(topics):\n",
    "    popularity = pd.DataFrame(topics).mean()\n",
    "    popularity = popularity.rename_axis('Topic')\n",
    "    popularity = popularity.sort_values(ascending=False)\n",
    "    popularity.plot.bar(title='Topic popularity')\n",
    "    return\n",
    "\n",
    "def rank_groups(data, trait, topic):\n",
    "    groups = data[trait].value_counts().index.values\n",
    "    result = {}\n",
    "    \n",
    "    for g in groups:\n",
    "        result[g] = data[data[trait] == g][topic].mean()\n",
    "    \n",
    "    r = pd.DataFrame.from_dict(result, orient='index')\n",
    "    r.columns = [topic]\n",
    "    r = r.sort_values(by=topic, ascending=False)\n",
    "    \n",
    "    return r.round(3)\n",
    "\n",
    "def top_topics(data, trait, value, n_top_topics=3, distinctive=False):\n",
    "    topics = [col for col in data if col.startswith('topic_')]\n",
    "    vals = {}\n",
    "    means = {}\n",
    "    if distinctive:\n",
    "        for t in topics:\n",
    "            means[t] = data[t].mean()\n",
    "    else:\n",
    "        for t in topics:\n",
    "            means[t] = 1\n",
    "    \n",
    "    data = data[data[trait] == value]\n",
    "    \n",
    "    for t in topics:\n",
    "        vals[t] = data[t].mean() / means[t]\n",
    "    vals = pd.DataFrame.from_dict(vals, orient='index')\n",
    "    vals = vals.sort_values(by=0, ascending=False).head(n_top_topics)\n",
    "    \n",
    "    return list(vals.index.values)"
   ]
  },
  {
   "cell_type": "markdown",
   "metadata": {},
   "source": [
    "### Overall most common topics"
   ]
  },
  {
   "cell_type": "code",
   "execution_count": 65,
   "metadata": {},
   "outputs": [
    {
     "data": {
      "image/png": "[encoded data removed]",
      "text/plain": [
       "<matplotlib.figure.Figure at 0x7fb07f427518>"
      ]
     },
     "metadata": {},
     "output_type": "display_data"
    }
   ],
   "source": [
    "common_topics_bars(profile_topics)"
   ]
  },
  {
   "cell_type": "markdown",
   "metadata": {},
   "source": [
    "### Who is a topic most popular with?"
   ]
  },
  {
   "cell_type": "markdown",
   "metadata": {},
   "source": [
    "#### Step 1: Merge our information about topics with our information about people"
   ]
  },
  {
   "cell_type": "code",
   "execution_count": 66,
   "metadata": {},
   "outputs": [
    {
     "data": {
      "text/html": [
       "<div>\n",
       "<style scoped>\n",
       "    .dataframe tbody tr th:only-of-type {\n",
       "        vertical-align: middle;\n",
       "    }\n",
       "\n",
       "    .dataframe tbody tr th {\n",
       "        vertical-align: top;\n",
       "    }\n",
       "\n",
       "    .dataframe thead th {\n",
       "        text-align: right;\n",
       "    }\n",
       "</style>\n",
       "<table border=\"1\" class=\"dataframe\">\n",
       "  <thead>\n",
       "    <tr style=\"text-align: right;\">\n",
       "      <th></th>\n",
       "      <th>age_group</th>\n",
       "      <th>age</th>\n",
       "      <th>body</th>\n",
       "      <th>alcohol_use</th>\n",
       "      <th>drug_use</th>\n",
       "      <th>edu</th>\n",
       "      <th>race_ethnicity</th>\n",
       "      <th>height_group</th>\n",
       "      <th>industry</th>\n",
       "      <th>kids</th>\n",
       "      <th>...</th>\n",
       "      <th>topic_5</th>\n",
       "      <th>topic_6</th>\n",
       "      <th>topic_7</th>\n",
       "      <th>topic_8</th>\n",
       "      <th>topic_9</th>\n",
       "      <th>topic_10</th>\n",
       "      <th>topic_11</th>\n",
       "      <th>topic_12</th>\n",
       "      <th>topic_13</th>\n",
       "      <th>topic_14</th>\n",
       "    </tr>\n",
       "  </thead>\n",
       "  <tbody>\n",
       "    <tr>\n",
       "      <th>0</th>\n",
       "      <td>20</td>\n",
       "      <td>22</td>\n",
       "      <td>overweight</td>\n",
       "      <td>yes</td>\n",
       "      <td>no</td>\n",
       "      <td>HS</td>\n",
       "      <td>multiple</td>\n",
       "      <td>over_6</td>\n",
       "      <td>other</td>\n",
       "      <td>no</td>\n",
       "      <td>...</td>\n",
       "      <td>0.155453</td>\n",
       "      <td>0.015094</td>\n",
       "      <td>0.176478</td>\n",
       "      <td>0.000926</td>\n",
       "      <td>0.436088</td>\n",
       "      <td>0.000926</td>\n",
       "      <td>0.000926</td>\n",
       "      <td>0.000926</td>\n",
       "      <td>0.039942</td>\n",
       "      <td>0.000926</td>\n",
       "    </tr>\n",
       "    <tr>\n",
       "      <th>1</th>\n",
       "      <td>30</td>\n",
       "      <td>35</td>\n",
       "      <td>average</td>\n",
       "      <td>yes</td>\n",
       "      <td>yes</td>\n",
       "      <td>unknown</td>\n",
       "      <td>White</td>\n",
       "      <td>under_6</td>\n",
       "      <td>other</td>\n",
       "      <td>no</td>\n",
       "      <td>...</td>\n",
       "      <td>0.264845</td>\n",
       "      <td>0.001852</td>\n",
       "      <td>0.001852</td>\n",
       "      <td>0.036129</td>\n",
       "      <td>0.070126</td>\n",
       "      <td>0.001852</td>\n",
       "      <td>0.001852</td>\n",
       "      <td>0.001852</td>\n",
       "      <td>0.139624</td>\n",
       "      <td>0.001852</td>\n",
       "    </tr>\n",
       "    <tr>\n",
       "      <th>2</th>\n",
       "      <td>30</td>\n",
       "      <td>38</td>\n",
       "      <td>thin</td>\n",
       "      <td>yes</td>\n",
       "      <td>yes</td>\n",
       "      <td>Grad_Pro</td>\n",
       "      <td>NaN</td>\n",
       "      <td>under_6</td>\n",
       "      <td>NaN</td>\n",
       "      <td>no</td>\n",
       "      <td>...</td>\n",
       "      <td>0.409528</td>\n",
       "      <td>0.000980</td>\n",
       "      <td>0.323263</td>\n",
       "      <td>0.000980</td>\n",
       "      <td>0.000980</td>\n",
       "      <td>0.000980</td>\n",
       "      <td>0.000980</td>\n",
       "      <td>0.000980</td>\n",
       "      <td>0.000980</td>\n",
       "      <td>0.056412</td>\n",
       "    </tr>\n",
       "    <tr>\n",
       "      <th>3</th>\n",
       "      <td>20</td>\n",
       "      <td>23</td>\n",
       "      <td>thin</td>\n",
       "      <td>yes</td>\n",
       "      <td>yes</td>\n",
       "      <td>HS</td>\n",
       "      <td>White</td>\n",
       "      <td>under_6</td>\n",
       "      <td>education</td>\n",
       "      <td>no</td>\n",
       "      <td>...</td>\n",
       "      <td>0.022222</td>\n",
       "      <td>0.355555</td>\n",
       "      <td>0.022222</td>\n",
       "      <td>0.022222</td>\n",
       "      <td>0.022222</td>\n",
       "      <td>0.355555</td>\n",
       "      <td>0.022222</td>\n",
       "      <td>0.022222</td>\n",
       "      <td>0.022222</td>\n",
       "      <td>0.022222</td>\n",
       "    </tr>\n",
       "    <tr>\n",
       "      <th>4</th>\n",
       "      <td>20</td>\n",
       "      <td>29</td>\n",
       "      <td>fit</td>\n",
       "      <td>yes</td>\n",
       "      <td>no</td>\n",
       "      <td>BA</td>\n",
       "      <td>multiple</td>\n",
       "      <td>under_6</td>\n",
       "      <td>creative</td>\n",
       "      <td>no</td>\n",
       "      <td>...</td>\n",
       "      <td>0.003704</td>\n",
       "      <td>0.003704</td>\n",
       "      <td>0.948148</td>\n",
       "      <td>0.003704</td>\n",
       "      <td>0.003704</td>\n",
       "      <td>0.003704</td>\n",
       "      <td>0.003704</td>\n",
       "      <td>0.003704</td>\n",
       "      <td>0.003704</td>\n",
       "      <td>0.003704</td>\n",
       "    </tr>\n",
       "  </tbody>\n",
       "</table>\n",
       "<p>5 rows × 45 columns</p>\n",
       "</div>"
      ],
      "text/plain": [
       "   age_group  age        body alcohol_use drug_use       edu race_ethnicity  \\\n",
       "0         20   22  overweight         yes       no        HS       multiple   \n",
       "1         30   35     average         yes      yes   unknown          White   \n",
       "2         30   38        thin         yes      yes  Grad_Pro            NaN   \n",
       "3         20   23        thin         yes      yes        HS          White   \n",
       "4         20   29         fit         yes       no        BA       multiple   \n",
       "\n",
       "  height_group   industry kids    ...      topic_5   topic_6   topic_7  \\\n",
       "0       over_6      other   no    ...     0.155453  0.015094  0.176478   \n",
       "1      under_6      other   no    ...     0.264845  0.001852  0.001852   \n",
       "2      under_6        NaN   no    ...     0.409528  0.000980  0.323263   \n",
       "3      under_6  education   no    ...     0.022222  0.355555  0.022222   \n",
       "4      under_6   creative   no    ...     0.003704  0.003704  0.948148   \n",
       "\n",
       "    topic_8   topic_9  topic_10  topic_11  topic_12  topic_13  topic_14  \n",
       "0  0.000926  0.436088  0.000926  0.000926  0.000926  0.039942  0.000926  \n",
       "1  0.036129  0.070126  0.001852  0.001852  0.001852  0.139624  0.001852  \n",
       "2  0.000980  0.000980  0.000980  0.000980  0.000980  0.000980  0.056412  \n",
       "3  0.022222  0.022222  0.355555  0.022222  0.022222  0.022222  0.022222  \n",
       "4  0.003704  0.003704  0.003704  0.003704  0.003704  0.003704  0.003704  \n",
       "\n",
       "[5 rows x 45 columns]"
      ]
     },
     "execution_count": 66,
     "metadata": {},
     "output_type": "execute_result"
    }
   ],
   "source": [
    "topic_info = pd.DataFrame(profile_topics).add_prefix('topic_')\n",
    "together = profiles.merge(topic_info, left_index=True, right_index=True)\n",
    "together.head()"
   ]
  },
  {
   "cell_type": "markdown",
   "metadata": {},
   "source": [
    "#### Step 2: See the groups that have the most text about a given topic\n",
    "- The numbers here show how much of a profile, on average, is about a specific topic.\n",
    "- Try different topics.\n",
    "- Try different traits. Here are the options / information we know about users from their profiles\n",
    "    - 'age_group', \n",
    "    - 'age', \n",
    "    - 'body', \n",
    "    - 'alcohol_use', \n",
    "    - 'drug_use',\n",
    "    - 'edu', \n",
    "    - 'race_ethnicity', \n",
    "    - 'height_group', \n",
    "    - 'industry', \n",
    "    - 'kids', \n",
    "    - 'orientation', \n",
    "    - 'pets_likes', \n",
    "    - 'pets_has', \n",
    "    - 'pets_any', \n",
    "    - 'religion', \n",
    "    - 'sex', \n",
    "    - 'smoker', \n",
    "    - 'languages'"
   ]
  },
  {
   "cell_type": "code",
   "execution_count": 70,
   "metadata": {
    "scrolled": false
   },
   "outputs": [
    {
     "data": {
      "text/html": [
       "<div>\n",
       "<style scoped>\n",
       "    .dataframe tbody tr th:only-of-type {\n",
       "        vertical-align: middle;\n",
       "    }\n",
       "\n",
       "    .dataframe tbody tr th {\n",
       "        vertical-align: top;\n",
       "    }\n",
       "\n",
       "    .dataframe thead th {\n",
       "        text-align: right;\n",
       "    }\n",
       "</style>\n",
       "<table border=\"1\" class=\"dataframe\">\n",
       "  <thead>\n",
       "    <tr style=\"text-align: right;\">\n",
       "      <th></th>\n",
       "      <th>topic_12</th>\n",
       "    </tr>\n",
       "  </thead>\n",
       "  <tbody>\n",
       "    <tr>\n",
       "      <th>BA</th>\n",
       "      <td>0.121</td>\n",
       "    </tr>\n",
       "    <tr>\n",
       "      <th>HS</th>\n",
       "      <td>0.121</td>\n",
       "    </tr>\n",
       "    <tr>\n",
       "      <th>Grad_Pro</th>\n",
       "      <td>0.120</td>\n",
       "    </tr>\n",
       "    <tr>\n",
       "      <th>unknown</th>\n",
       "      <td>0.120</td>\n",
       "    </tr>\n",
       "    <tr>\n",
       "      <th>&lt;HS</th>\n",
       "      <td>0.108</td>\n",
       "    </tr>\n",
       "  </tbody>\n",
       "</table>\n",
       "</div>"
      ],
      "text/plain": [
       "          topic_12\n",
       "BA           0.121\n",
       "HS           0.121\n",
       "Grad_Pro     0.120\n",
       "unknown      0.120\n",
       "<HS          0.108"
      ]
     },
     "execution_count": 70,
     "metadata": {},
     "output_type": "execute_result"
    }
   ],
   "source": [
    "rank_groups(together, trait='edu', topic='topic_12')"
   ]
  },
  {
   "cell_type": "markdown",
   "metadata": {},
   "source": [
    "#### Step 3: See the topics that take up the most text for a given group\n",
    "- This example shows top topics for different education levels.\n",
    "- You can change the arguments to compare different groups"
   ]
  },
  {
   "cell_type": "code",
   "execution_count": 60,
   "metadata": {},
   "outputs": [
    {
     "data": {
      "text/plain": [
       "['topic_0', 'topic_12', 'topic_1']"
      ]
     },
     "execution_count": 60,
     "metadata": {},
     "output_type": "execute_result"
    }
   ],
   "source": [
    "#show most popular topics for High School graduates\n",
    "top_topics(data=together, trait='edu', value='HS', n_top_topics=3)"
   ]
  },
  {
   "cell_type": "code",
   "execution_count": 61,
   "metadata": {},
   "outputs": [
    {
     "data": {
      "text/plain": [
       "['topic_0', 'topic_1', 'topic_2']"
      ]
     },
     "execution_count": 61,
     "metadata": {},
     "output_type": "execute_result"
    }
   ],
   "source": [
    "#show most popular topics for High School graduates\n",
    "top_topics(data=together, trait='edu', value='Grad_pro', n_top_topics=3)"
   ]
  },
  {
   "cell_type": "markdown",
   "metadata": {},
   "source": [
    "#### Step 4: See the topics that distinguish a group from other groups\n",
    "- This example shows top topics for different education levels.\n",
    "- You can change the arguments to compare different groups"
   ]
  },
  {
   "cell_type": "code",
   "execution_count": 71,
   "metadata": {},
   "outputs": [
    {
     "data": {
      "text/plain": [
       "['topic_3', 'topic_10', 'topic_6']"
      ]
     },
     "execution_count": 71,
     "metadata": {},
     "output_type": "execute_result"
    }
   ],
   "source": [
    "top_topics(data=together, trait='edu', value='HS', n_top_topics=3, distinctive=True)"
   ]
  },
  {
   "cell_type": "code",
   "execution_count": 72,
   "metadata": {},
   "outputs": [
    {
     "data": {
      "text/plain": [
       "['topic_0', 'topic_1', 'topic_2']"
      ]
     },
     "execution_count": 72,
     "metadata": {},
     "output_type": "execute_result"
    }
   ],
   "source": [
    "top_topics(data=together, trait='edu', value='Grad_pro', n_top_topics=3, distinctive=True)"
   ]
  },
  {
   "cell_type": "markdown",
   "metadata": {},
   "source": [
    "# NMF: an alternative to LDA\n",
    "- NMF stands for Non-Negative Matrix Factorization. Just like you may have found factors in algebra class, this finds factors for the matrix of numbers representing word frequency in text. For example:\n",
    "    - $ 10 $ can be factored as $ 2 * 5 $\n",
    "    - $ x^2+3x+2 $ can be factored as $ (x+2)(x+1)$\n",
    "- It turns out that finding factors for text is a really good way of finding topics. This makes sense intuitively: factors are simple things we can combine to get the more complicated output, and topics are simple things people combine to write profiles.\n",
    "- [Learn more](https://en.wikipedia.org/wiki/Non-Negative_matrix_factorization#Text_mining) about NMF.\n",
    "\n",
    "\n",
    "### Step 1: Convert text to numbers the computer understands\n",
    "- NMF takes \"tf-idf vectors\" as input. Tf-idf stands for \"text frequency - inverse document frequency.\" \n",
    "    - Text frequency is the same as the count vectors above: how often does each word appear in the text?\n",
    "    - Inverse document frequency means we divide (\"inverse\") by the number of documents the word is in. (If everyone uses the word, it isn't very helpful for figuring out what makes people different. So this measurement looks for words that are used a lot in some documents, and not at all in others.)\n",
    "    - Here we tell it to only use the 1,000 most popular words, ignoring stop words"
   ]
  },
  {
   "cell_type": "code",
   "execution_count": 74,
   "metadata": {},
   "outputs": [
    {
     "name": "stdout",
     "output_type": "stream",
     "text": [
      "Vectorizing text by TF-IDF...\n",
      "Our transformed text has 53396 rows and 1000 columns.\n"
     ]
    }
   ],
   "source": [
    "tfidf_vectorizer = TfidfVectorizer(max_features=1000, stop_words='english')\n",
    "\n",
    "print(\"Vectorizing text by TF-IDF...\")\n",
    "tfidf_text = tfidf_vectorizer.fit_transform(documents)\n",
    "\n",
    "tmp = tfidf_text.get_shape()\n",
    "print(\"Our transformed text has\", tmp[0], \"rows and\", tmp[1], \"columns.\")"
   ]
  },
  {
   "cell_type": "markdown",
   "metadata": {},
   "source": [
    "#### The features are mostly the same as count vectors, because they are just the common words in the text"
   ]
  },
  {
   "cell_type": "code",
   "execution_count": 75,
   "metadata": {},
   "outputs": [
    {
     "name": "stdout",
     "output_type": "stream",
     "text": [
      "The first few words (alphabetically) are:\n",
      " ['10', '11', '12', '15', '20', '30', 'ability', 'able', 'abroad', 'absolutely', 'act', 'active', 'activities', 'activity', 'actually', 'add', 'admit', 'adventure', 'adventures', 'adventurous']\n"
     ]
    }
   ],
   "source": [
    "tfidf_feature_names = tfidf_vectorizer.get_feature_names()\n",
    "print(\"The first few words (alphabetically) are:\\n\", tfidf_feature_names[:20])"
   ]
  },
  {
   "cell_type": "markdown",
   "metadata": {},
   "source": [
    "#### The values are different: the counts have been divided by the documents they show up in"
   ]
  },
  {
   "cell_type": "code",
   "execution_count": 77,
   "metadata": {},
   "outputs": [
    {
     "name": "stdout",
     "output_type": "stream",
     "text": [
      "Profile text:\n",
      " i am a chef: this is what that means.\n",
      "1. i am a workaholic.\n",
      "2. i love to cook regardless of whether i am at work.\n",
      "3. i love to drink and eat foods that are probably really bad for\n",
      "me.\n",
      "4. i love being around people that resemble line 1-3.\n",
      "i love the outdoors and i am an avid skier. if its snowing i will\n",
      "be in tahoe at the very least. i am a very confident and friendly.\n",
      "i'm not interested in acting or being a typical guy. i have no time\n",
      "or patience for rediculous acts of territorial pissing. overall i\n",
      "am a very likable easygoing individual. i am very adventurous and\n",
      "always looking forward to doing new things and hopefully sharing it\n",
      "with the right person.\n",
      "\n",
      "TF (count) vector:\n",
      "love 0.295659472409\n",
      "guy 0.131731440658\n",
      "things 0.0951272785518\n",
      "probably 0.15792201579\n",
      "really 0.109328123882\n",
      "work 0.110364122841\n",
      "means 0.182495725919\n",
      "cook 0.169153951551\n",
      "drink 0.181278297239\n",
      "eat 0.175058673315\n",
      "foods 0.230007819672\n",
      "bad 0.179099150725\n",
      "people 0.0879759886981\n",
      "line 0.210575210161\n",
      "outdoors 0.151778927591\n",
      "tahoe 0.228096839317\n",
      "confident 0.195847567503\n",
      "friendly 0.18656300015\n",
      "interested 0.16206387675\n",
      "typical 0.234703953866\n",
      "time 0.0923649004711\n",
      "easygoing 0.236250098617\n",
      "individual 0.22766814539\n",
      "adventurous 0.175138106277\n",
      "looking 0.106319030275\n",
      "forward 0.191546733106\n",
      "doing 0.146731937269\n",
      "new 0.0931925964697\n",
      "hopefully 0.202499243944\n",
      "sharing 0.215033707344\n",
      "right 0.139034706009\n",
      "person 0.115800068013\n"
     ]
    }
   ],
   "source": [
    "n = 1\n",
    "\n",
    "print('Profile text:\\n', documents[n])\n",
    "print('\\nTF (count) vector:')\n",
    "show_vector(tfidf_text[n])"
   ]
  },
  {
   "cell_type": "markdown",
   "metadata": {},
   "source": [
    "### Step 2: Build a topic model using NMF\n",
    "\n",
    "- NMF is faster than LDA and often works a little better for small documents like we have here."
   ]
  },
  {
   "cell_type": "code",
   "execution_count": 79,
   "metadata": {},
   "outputs": [
    {
     "name": "stdout",
     "output_type": "stream",
     "text": [
      "Performing NMF on vectors...\n",
      "Done!\n"
     ]
    }
   ],
   "source": [
    "model = NMF(n_components=ntopics, alpha=.1, l1_ratio=.5, init='nndsvd')\n",
    "\n",
    "print('Performing NMF on vectors...')\n",
    "nmf = model.fit(tfidf_text)\n",
    "nmf_topics = nmf.components_\n",
    "\n",
    "print('Done!')"
   ]
  },
  {
   "cell_type": "markdown",
   "metadata": {},
   "source": [
    "### Step 3: Show our topics with the top words in each"
   ]
  },
  {
   "cell_type": "code",
   "execution_count": 80,
   "metadata": {},
   "outputs": [
    {
     "name": "stdout",
     "output_type": "stream",
     "text": [
      "Topic 0: enjoy music movies hiking watching playing cooking friends reading sports\n",
      "Topic 1: years sf moved ve ago school lived year coast city\n",
      "Topic 2: don know really people think want ll say ve way\n",
      "Topic 3: new people meet things meeting trying try places friends learning\n",
      "Topic 4: like things play stuff feel watch lot think people movies\n",
      "Topic 5: im dont lol chill thats guy know person laid nice\n",
      "Topic 6: love laugh travel outdoors family dance cook make music food\n",
      "Topic 7: life live world share things believe happy family living important\n",
      "Topic 8: san francisco city born raised moved living diego live native\n",
      "Topic 9: bay area raised born native east grew moved living lived\n",
      "Topic 10: good humor sense food conversation pretty laugh company great friends\n",
      "Topic 11: going easy person guy pretty laid earth fun open try\n",
      "Topic 12: time work spend hard friends working lot family free play\n",
      "Topic 13: just ask want know moved trying message wanna hang hey\n",
      "Topic 14: looking fun guy loving meet nice girl relationship friends woman\n"
     ]
    }
   ],
   "source": [
    "display_topics(nmf_topics, tfidf_feature_names, nshow)"
   ]
  },
  {
   "cell_type": "markdown",
   "metadata": {},
   "source": [
    "### Step 4: Compare topics to each other\n",
    "We can compare topics visually by plotting the similarity of each topic to each other topic."
   ]
  },
  {
   "cell_type": "code",
   "execution_count": 81,
   "metadata": {},
   "outputs": [
    {
     "data": {
      "text/plain": [
       "<matplotlib.figure.Figure at 0x7fb07f509908>"
      ]
     },
     "metadata": {},
     "output_type": "display_data"
    },
    {
     "data": {
      "image/png": "[encoded data removed]",
      "text/plain": [
       "<matplotlib.figure.Figure at 0x7fb07f50d0b8>"
      ]
     },
     "metadata": {},
     "output_type": "display_data"
    }
   ],
   "source": [
    "plot_topics(nmf_topics)"
   ]
  },
  {
   "cell_type": "markdown",
   "metadata": {},
   "source": [
    "#### Examine the words that make two topics similar or different\n",
    "We can also compare two topics to each other by looking at words that are common in both, or words that are common in one but not the other. Try changing topic_a and topic_b to different topic numbers."
   ]
  },
  {
   "cell_type": "code",
   "execution_count": 84,
   "metadata": {},
   "outputs": [
    {
     "name": "stdout",
     "output_type": "stream",
     "text": [
      "overlap between 1 and 8: city years living originally recently lived grew born year moved\n",
      "difference between 1 and 8: 10 outside oakland middle italy mountains places ny pretty played\n",
      "difference between 8 and 1: clubs nice nerdy san reality relaxing hang male francisco friendly\n"
     ]
    }
   ],
   "source": [
    "topic_a = 1\n",
    "topic_b = 8\n",
    "\n",
    "compare_topic_words(nmf_topics, topic_a, topic_b, tfidf_feature_names, n_words=nshow, how='overlap')\n",
    "compare_topic_words(nmf_topics, topic_a, topic_b, tfidf_feature_names, n_words=nshow, how='difference')\n",
    "compare_topic_words(nmf_topics, topic_b, topic_a, tfidf_feature_names, n_words=nshow, how='difference')"
   ]
  },
  {
   "cell_type": "markdown",
   "metadata": {
    "collapsed": true
   },
   "source": [
    "### Step 5: Interpret these topics\n",
    "- This part is for you to do: code can't do it for you.\n",
    "- Look at the list of important words for each topic, and think about these questions.\n",
    "    - What do the words have in common?\n",
    "    - What could someone write that would use most of those words?\n",
    "    - What does this topic seem to be about?\n",
    "- Try to come up with a short, catchy name for each topic.\n",
    "    - For example, if the words were \"san francisco city moved living born years raised lived live\", you might call it \"places lived\" because the topic seems to be about where people currently live (San Francisco) and where they were born / raised / moved from. \n",
    "- Try other numbers of topics.\n",
    "    - If the topics seem repetitive, you might want to try looking for fewer topics.\n",
    "    - If the topics seem confusing or vague, you might want to try looking for more topics (so that they can be more specific)."
   ]
  },
  {
   "cell_type": "markdown",
   "metadata": {
    "collapsed": true
   },
   "source": [
    "### Step 6: Compare the topics from LDA and NMF\n",
    "\n",
    "#### Helper function to make a graph for us"
   ]
  },
  {
   "cell_type": "code",
   "execution_count": 86,
   "metadata": {},
   "outputs": [],
   "source": [
    "def plot_confusion(x, y):\n",
    "    n = x.shape[0]\n",
    "    corrs = cosine_similarity(x, y)\n",
    "\n",
    "    matches = []\n",
    "    pairs = {}\n",
    "\n",
    "    for i in range(n):\n",
    "        for j in range(n):\n",
    "            tmp = {}\n",
    "            tmp['i'] = i\n",
    "            tmp['j'] = j\n",
    "            tmp['match'] = corrs[i][j]\n",
    "            matches.append(tmp)\n",
    "\n",
    "    matches = pd.DataFrame(matches).sort_values(by='match', ascending=False)\n",
    "\n",
    "    for row in matches.iterrows():\n",
    "        i = row[1]['i']\n",
    "        j = row[1]['j']\n",
    "        if i not in pairs.keys():\n",
    "            if j not in pairs.values():\n",
    "                pairs[i] = row[1]['j']\n",
    "\n",
    "    new_order = np.zeros((n))\n",
    "    for k in pairs.keys():\n",
    "        new_order[int(k)] = int(pairs[k])\n",
    "\n",
    "    topic_similarity = pd.DataFrame(corrs)\n",
    "    topic_similarity = topic_similarity[new_order]\n",
    "\n",
    "    blue_matrix(topic_similarity, new_order)"
   ]
  },
  {
   "cell_type": "markdown",
   "metadata": {},
   "source": [
    "- We can compare the topics visually using a confusion matrix plot.\n",
    "- The NMF topics are along the X axis and the LDA are along the Y axis.\n",
    "- The NMF topics are sorted to match the closest LDA topic."
   ]
  },
  {
   "cell_type": "code",
   "execution_count": 87,
   "metadata": {
    "scrolled": false
   },
   "outputs": [
    {
     "data": {
      "text/plain": [
       "<matplotlib.figure.Figure at 0x7fb07f649748>"
      ]
     },
     "metadata": {},
     "output_type": "display_data"
    },
    {
     "data": {
      "image/png": "[encoded data removed]",
      "text/plain": [
       "<matplotlib.figure.Figure at 0x7fb07f649f60>"
      ]
     },
     "metadata": {},
     "output_type": "display_data"
    }
   ],
   "source": [
    "plot_confusion(x = nmf_topics, y = lda_topics)"
   ]
  },
  {
   "cell_type": "markdown",
   "metadata": {},
   "source": [
    "By looking at the LDA and NMF topic words and the confusion matrix, consider the following questions:\n",
    "- Do any of the topics seem to be the same in both models?\n",
    "- Are some topics in one model but not the other?\n",
    "- Do the topics you get from one of the models make more sense than the ones you get from the other?\n"
   ]
  },
  {
   "cell_type": "markdown",
   "metadata": {},
   "source": [
    "# Reflection: What we've learned\n",
    "- Two statistical methods for topic modeling\n",
    "    - LDA\n",
    "    - NMF\n",
    "- Two ways to represent text as numbers\n",
    "    - TF / count vectors (counts of how often each word is used)\n",
    "    - TF-IDF vectors (counts of how often each word is used, divided by the number of documents they're used in)\n",
    "- How to think about and interpret the topics our models find\n",
    "- How to compare and relate different topics\n",
    "- Different ways to see the distribution of topics in profiles\n",
    "- Which topics are most popular with social categories of people\n",
    "- Which social categories of people discuss a topic most"
   ]
  },
  {
   "cell_type": "code",
   "execution_count": null,
   "metadata": {},
   "outputs": [],
   "source": []
  }
 ],
 "metadata": {
  "kernelspec": {
   "display_name": "Python 3",
   "language": "python",
   "name": "python3"
  },
  "language_info": {
   "codemirror_mode": {
    "name": "ipython",
    "version": 3
   },
   "file_extension": ".py",
   "mimetype": "text/x-python",
   "name": "python",
   "nbconvert_exporter": "python",
   "pygments_lexer": "ipython3",
   "version": "3.6.3"
  }
 },
 "nbformat": 4,
 "nbformat_minor": 2
}
