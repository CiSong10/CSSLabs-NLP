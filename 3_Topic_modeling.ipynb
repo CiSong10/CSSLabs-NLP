{
 "cells": [
  {
   "cell_type": "markdown",
   "metadata": {},
   "source": [
    "# Topic Modeling Lab\n",
    "\n",
    "- In this lab, we'll learn about topic modeling. Topic modeling uses statistics to understand what text is about, that is, to find the topics in text.\n",
    "- We'll use the online dating profile text that OKCupid made public as our example, but of course topic modeling can be used on any text.\n",
    "- (Some of the code for this lab was adapted from [Aneesha Bakharia](https://medium.com/@aneesha/topic-modeling-with-scikit-learn-e80d33668730)'s example.)"
   ]
  },
  {
   "cell_type": "markdown",
   "metadata": {},
   "source": [
    "# 0. Setup\n",
    "### Step 1: Import the packages we'll use"
   ]
  },
  {
   "cell_type": "code",
   "execution_count": 1,
   "metadata": {},
   "outputs": [],
   "source": [
    "import pandas as pd\n",
    "import numpy as np\n",
    "from scipy.cluster.hierarchy import linkage\n",
    "from scipy.interpolate import griddata\n",
    "from sklearn.feature_extraction.text import TfidfVectorizer, CountVectorizer\n",
    "from sklearn.decomposition import NMF, LatentDirichletAllocation\n",
    "from sklearn.preprocessing import normalize\n",
    "from bs4 import BeautifulSoup\n",
    "import warnings\n",
    "import matplotlib.pyplot as plt\n",
    "%matplotlib inline"
   ]
  },
  {
   "cell_type": "markdown",
   "metadata": {},
   "source": [
    "### Step 2: Read in our data \n",
    "\n",
    "#### Important note: \n",
    "Before loading this data, you **must** run the code from section `0. Setup` in Lab `1. What is in a dating profile?`. This code prepares the data we'll be using."
   ]
  },
  {
   "cell_type": "code",
   "execution_count": 2,
   "metadata": {},
   "outputs": [
    {
     "data": {
      "text/html": [
       "<div>\n",
       "<style scoped>\n",
       "    .dataframe tbody tr th:only-of-type {\n",
       "        vertical-align: middle;\n",
       "    }\n",
       "\n",
       "    .dataframe tbody tr th {\n",
       "        vertical-align: top;\n",
       "    }\n",
       "\n",
       "    .dataframe thead th {\n",
       "        text-align: right;\n",
       "    }\n",
       "</style>\n",
       "<table border=\"1\" class=\"dataframe\">\n",
       "  <thead>\n",
       "    <tr style=\"text-align: right;\">\n",
       "      <th></th>\n",
       "      <th>age_group</th>\n",
       "      <th>age</th>\n",
       "      <th>body</th>\n",
       "      <th>alcohol_use</th>\n",
       "      <th>drug_use</th>\n",
       "      <th>edu</th>\n",
       "      <th>race_ethnicity</th>\n",
       "      <th>height_group</th>\n",
       "      <th>industry</th>\n",
       "      <th>kids</th>\n",
       "      <th>...</th>\n",
       "      <th>essay0</th>\n",
       "      <th>essay1</th>\n",
       "      <th>essay2</th>\n",
       "      <th>essay3</th>\n",
       "      <th>essay4</th>\n",
       "      <th>essay5</th>\n",
       "      <th>essay6</th>\n",
       "      <th>essay7</th>\n",
       "      <th>essay8</th>\n",
       "      <th>essay9</th>\n",
       "    </tr>\n",
       "  </thead>\n",
       "  <tbody>\n",
       "    <tr>\n",
       "      <th>0</th>\n",
       "      <td>20</td>\n",
       "      <td>22</td>\n",
       "      <td>overweight</td>\n",
       "      <td>yes</td>\n",
       "      <td>no</td>\n",
       "      <td>HS</td>\n",
       "      <td>multiple</td>\n",
       "      <td>over_6</td>\n",
       "      <td>other</td>\n",
       "      <td>no</td>\n",
       "      <td>...</td>\n",
       "      <td>about me:&lt;br /&gt;\\n&lt;br /&gt;\\ni would love to think...</td>\n",
       "      <td>currently working as an international agent fo...</td>\n",
       "      <td>making people laugh.&lt;br /&gt;\\nranting about a go...</td>\n",
       "      <td>the way i look. i am a six foot half asian, ha...</td>\n",
       "      <td>books:&lt;br /&gt;\\nabsurdistan, the republic, of mi...</td>\n",
       "      <td>food.&lt;br /&gt;\\nwater.&lt;br /&gt;\\ncell phone.&lt;br /&gt;\\n...</td>\n",
       "      <td>duality and humorous things</td>\n",
       "      <td>trying to find someone to hang out with. i am ...</td>\n",
       "      <td>i am new to california and looking for someone...</td>\n",
       "      <td>you want to be swept off your feet!&lt;br /&gt;\\nyou...</td>\n",
       "    </tr>\n",
       "    <tr>\n",
       "      <th>1</th>\n",
       "      <td>30</td>\n",
       "      <td>35</td>\n",
       "      <td>average</td>\n",
       "      <td>yes</td>\n",
       "      <td>yes</td>\n",
       "      <td>unknown</td>\n",
       "      <td>White</td>\n",
       "      <td>under_6</td>\n",
       "      <td>other</td>\n",
       "      <td>no</td>\n",
       "      <td>...</td>\n",
       "      <td>i am a chef: this is what that means.&lt;br /&gt;\\n1...</td>\n",
       "      <td>dedicating everyday to being an unbelievable b...</td>\n",
       "      <td>being silly. having ridiculous amonts of fun w...</td>\n",
       "      <td>NaN</td>\n",
       "      <td>i am die hard christopher moore fan. i don't r...</td>\n",
       "      <td>delicious porkness in all of its glories.&lt;br /...</td>\n",
       "      <td>NaN</td>\n",
       "      <td>NaN</td>\n",
       "      <td>i am very open and will share just about anyth...</td>\n",
       "      <td>NaN</td>\n",
       "    </tr>\n",
       "  </tbody>\n",
       "</table>\n",
       "<p>2 rows × 29 columns</p>\n",
       "</div>"
      ],
      "text/plain": [
       "   age_group  age        body alcohol_use drug_use      edu race_ethnicity  \\\n",
       "0         20   22  overweight         yes       no       HS       multiple   \n",
       "1         30   35     average         yes      yes  unknown          White   \n",
       "\n",
       "  height_group industry kids  \\\n",
       "0       over_6    other   no   \n",
       "1      under_6    other   no   \n",
       "\n",
       "                         ...                          \\\n",
       "0                        ...                           \n",
       "1                        ...                           \n",
       "\n",
       "                                              essay0  \\\n",
       "0  about me:<br />\\n<br />\\ni would love to think...   \n",
       "1  i am a chef: this is what that means.<br />\\n1...   \n",
       "\n",
       "                                              essay1  \\\n",
       "0  currently working as an international agent fo...   \n",
       "1  dedicating everyday to being an unbelievable b...   \n",
       "\n",
       "                                              essay2  \\\n",
       "0  making people laugh.<br />\\nranting about a go...   \n",
       "1  being silly. having ridiculous amonts of fun w...   \n",
       "\n",
       "                                              essay3  \\\n",
       "0  the way i look. i am a six foot half asian, ha...   \n",
       "1                                                NaN   \n",
       "\n",
       "                                              essay4  \\\n",
       "0  books:<br />\\nabsurdistan, the republic, of mi...   \n",
       "1  i am die hard christopher moore fan. i don't r...   \n",
       "\n",
       "                                              essay5  \\\n",
       "0  food.<br />\\nwater.<br />\\ncell phone.<br />\\n...   \n",
       "1  delicious porkness in all of its glories.<br /...   \n",
       "\n",
       "                        essay6  \\\n",
       "0  duality and humorous things   \n",
       "1                          NaN   \n",
       "\n",
       "                                              essay7  \\\n",
       "0  trying to find someone to hang out with. i am ...   \n",
       "1                                                NaN   \n",
       "\n",
       "                                              essay8  \\\n",
       "0  i am new to california and looking for someone...   \n",
       "1  i am very open and will share just about anyth...   \n",
       "\n",
       "                                              essay9  \n",
       "0  you want to be swept off your feet!<br />\\nyou...  \n",
       "1                                                NaN  \n",
       "\n",
       "[2 rows x 29 columns]"
      ]
     },
     "execution_count": 2,
     "metadata": {},
     "output_type": "execute_result"
    }
   ],
   "source": [
    "profiles = pd.read_csv('data/clean_profiles.tsv', sep='\\t')\n",
    "profiles.head(2)"
   ]
  },
  {
   "cell_type": "markdown",
   "metadata": {},
   "source": [
    "### Step 3: Pick which section of the profiles you want to analyze.\n",
    "#### Options:\n",
    "- text - All of the text from a profile\n",
    "- essay0 - My self summary\n",
    "- essay1 - What I’m doing with my life\n",
    "- essay2 - I’m really good at\n",
    "- essay3 - The first thing people usually notice about me\n",
    "- essay4 - Favorite books, movies, show, music, and food\n",
    "- essay5 - The six things I could never do without\n",
    "- essay6 - I spend a lot of time thinking about\n",
    "- essay7 - On a typical Friday night I am\n",
    "- essay8 - The most private thing I am willing to admit\n",
    "- essay9 - You should message me if...\n",
    "\n",
    "#### Replace `'essay0'` in the cell below with the essay you want to look at."
   ]
  },
  {
   "cell_type": "code",
   "execution_count": 3,
   "metadata": {},
   "outputs": [],
   "source": [
    "profile_section_to_use = 'essay8'"
   ]
  },
  {
   "cell_type": "markdown",
   "metadata": {},
   "source": [
    "### Step 4: Clean up the text for that essay.\n",
    "#### Helper function for cleaning up text\n",
    "- removes HTML code, link artifacts\n",
    "- converts to lowercase"
   ]
  },
  {
   "cell_type": "code",
   "execution_count": 4,
   "metadata": {},
   "outputs": [],
   "source": [
    "# Some of the essays have just a link in the text. BeautifulSoup sees that and gets \n",
    "# the wrong idea. This line hides those warnings.\n",
    "warnings.filterwarnings(\"ignore\", category=UserWarning, module='bs4')\n",
    "\n",
    "def clean(text):\n",
    "    if pd.isnull(text):\n",
    "        t = np.nan\n",
    "    else:\n",
    "        t = BeautifulSoup(text, 'lxml').get_text()\n",
    "        t = t.lower()\n",
    "\n",
    "        bad_words = ['http', 'www', '\\nnan']\n",
    "\n",
    "        for b in bad_words:\n",
    "            t = t.replace(b, '')\n",
    "    if t == '':\n",
    "        t = np.nan\n",
    "    \n",
    "    return t"
   ]
  },
  {
   "cell_type": "markdown",
   "metadata": {},
   "source": [
    "#### Clean and select the text."
   ]
  },
  {
   "cell_type": "code",
   "execution_count": 5,
   "metadata": {},
   "outputs": [
    {
     "name": "stdout",
     "output_type": "stream",
     "text": [
      "Cleaning up profile text for essay8 ...\n",
      "We started with 58785 profiles.\n",
      "Dropping profiles that didn't write anything for the essay we chose...\n",
      "We have 39881 profiles left.\n"
     ]
    }
   ],
   "source": [
    "print('Cleaning up profile text for', profile_section_to_use, '...')\n",
    "profiles['clean'] = profiles[profile_section_to_use].apply(clean)\n",
    "\n",
    "print('We started with', profiles.shape[0], 'profiles.')\n",
    "print(\"Dropping profiles that didn't write anything for the essay we chose...\")\n",
    "profiles.dropna(axis=0, subset=['clean'], inplace=True)\n",
    "\n",
    "print('We have', profiles.shape[0], 'profiles left.')"
   ]
  },
  {
   "cell_type": "markdown",
   "metadata": {},
   "source": [
    "# 1. Topic Modeling\n",
    "#### Some parameters: change these to get different numbers of topics or words per topic"
   ]
  },
  {
   "cell_type": "code",
   "execution_count": 6,
   "metadata": {},
   "outputs": [],
   "source": [
    "#how many topics we want our model to find\n",
    "ntopics = 20\n",
    "\n",
    "#how many top words we want to display for each topic\n",
    "nshow = 10\n",
    "\n",
    "#what we will use as our documents, here the cleaned up text of each profile\n",
    "documents = profiles['clean'].values"
   ]
  },
  {
   "cell_type": "markdown",
   "metadata": {},
   "source": [
    "## 1.1 LDA\n",
    "- LDA stands for Latent Dirichlet Allocation. The statistical math behind it is complicated, but its goals are simple. \n",
    "    - find groups of words that often show up together and call those groups topics. \n",
    "    - find topics that can be used to tell documents apart, i.e. topics that are in some documents but not others.\n",
    "- LDA is the most popular method for topic modeling.\n",
    "- We must tell LDA how many topics we want it to look for (we did this above with the `ntopics` variable.\n",
    "- [Learn more](https://en.wikipedia.org/wiki/Latent_Dirichlet_allocation) about LDA\n",
    "\n",
    "### Step 1: Convert text to numbers the computer understands\n",
    "- LDA takes \"count vectors\" as input, that is, a count of how many times each word shows up in each document. \n",
    "    - Here we tell it to only use the 1,000 most popular words, ignoring stop words like \"a\" and \"of\".\n",
    "    - We use the abbreviation `tf` for these because they represent \"text frequency,\" i.e., how often each word shows up in text."
   ]
  },
  {
   "cell_type": "code",
   "execution_count": 7,
   "metadata": {},
   "outputs": [
    {
     "name": "stdout",
     "output_type": "stream",
     "text": [
      "Vectorizing text by word counts...\n",
      "Our transformed text has 39881 rows and 1000 columns.\n"
     ]
    }
   ],
   "source": [
    "tf_vectorizer = CountVectorizer(max_features=1000, stop_words='english')\n",
    "\n",
    "print(\"Vectorizing text by word counts...\")\n",
    "tf_text = tf_vectorizer.fit_transform(documents)\n",
    "\n",
    "tmp = tf_text.get_shape()\n",
    "print(\"Our transformed text has\", tmp[0], \"rows and\", tmp[1], \"columns.\")"
   ]
  },
  {
   "cell_type": "markdown",
   "metadata": {},
   "source": [
    "#### See what words are being counted"
   ]
  },
  {
   "cell_type": "code",
   "execution_count": 8,
   "metadata": {},
   "outputs": [
    {
     "name": "stdout",
     "output_type": "stream",
     "text": [
      "The first few words (alphabetically) are:\n",
      " ['10', '100', '11', '12', '14', '15', '16', '18', '20', '30', '40', 'able', 'absolutely', 'accent', 'accident', 'accidentally', 'account', 'act', 'actually', 'add']\n"
     ]
    }
   ],
   "source": [
    "tf_feature_names = tf_vectorizer.get_feature_names()\n",
    "\n",
    "print(\"The first few words (alphabetically) are:\\n\", tf_feature_names[:20])"
   ]
  },
  {
   "cell_type": "markdown",
   "metadata": {},
   "source": [
    "#### See an example of how a profile's text is encoded\n",
    "- Change the value of `n` and re-run the code to see different profiles.\n",
    "- Note that only some of the words are counted. This is because we set `max_features=1000` in the vectorizor function, so it is only counting the 1,000 most common words and ignoring the rest. \n",
    "    - You can change that number to be bigger or smaller and see what happens.\n",
    "    - We found in Lab 1 that 1,000 is a good choice for this data because words less popular than that show up in less than 1% of all profiles."
   ]
  },
  {
   "cell_type": "code",
   "execution_count": 9,
   "metadata": {},
   "outputs": [
    {
     "name": "stdout",
     "output_type": "stream",
     "text": [
      "Profile text:\n",
      " and say hi.\n",
      "\n",
      "TF (count) vector:\n",
      "say 1\n"
     ]
    }
   ],
   "source": [
    "n = 6\n",
    "\n",
    "def show_vector(x):\n",
    "    rows,cols = x.nonzero()\n",
    "    for row,col in zip(rows,cols):\n",
    "        print(tf_feature_names[col], x[row,col])\n",
    "\n",
    "print('Profile text:\\n', documents[n])\n",
    "print('\\nTF (count) vector:')\n",
    "show_vector(tf_text[n])"
   ]
  },
  {
   "cell_type": "markdown",
   "metadata": {},
   "source": [
    "### Step 2: Build a topic model using LDA\n",
    "\n",
    "- LDA can be a little slow. We'll use a faster method later on.\n",
    "- Set `n_jobs=` to the number of processors you want to use to compute LDA. If you set it to `-1`, it will use all available processors. "
   ]
  },
  {
   "cell_type": "code",
   "execution_count": 10,
   "metadata": {},
   "outputs": [
    {
     "name": "stdout",
     "output_type": "stream",
     "text": [
      "Performing LDA on vectors...\n",
      "Done!\n"
     ]
    }
   ],
   "source": [
    "model = LatentDirichletAllocation(n_components=ntopics, max_iter=10, \n",
    "                                  learning_method='online', n_jobs=-1)\n",
    "\n",
    "print('Performing LDA on vectors...')\n",
    "lda = model.fit(tf_text)\n",
    "\n",
    "print('Done!')"
   ]
  },
  {
   "cell_type": "markdown",
   "metadata": {},
   "source": [
    "#### Some helper functions \n",
    "Don't worry about how these work right now. We'll use them to make our analysis easier later on."
   ]
  },
  {
   "cell_type": "code",
   "execution_count": 11,
   "metadata": {},
   "outputs": [],
   "source": [
    "def describe_topic(topic, feature_names, n_words=10):\n",
    "    words = []\n",
    "    # sort the words in the topic by importance\n",
    "    topic = topic.argsort() \n",
    "    # select the n_words most important words\n",
    "    topic = topic[:-n_words - 1:-1]\n",
    "    # for each important word, get it's name (i.e. the word) from our list of names\n",
    "    for i in topic:\n",
    "        words.append(feature_names[i])\n",
    "    # print the topic number and its most important words, separated by spaces\n",
    "    return \" \".join(words)\n",
    "\n",
    "def display_topics(components, feature_names, n_words=10):\n",
    "    # loop through each topic (component) in the model; show its top words\n",
    "    for topic_idx, topic in enumerate(components):\n",
    "        print(\"Topic {}:\".format(topic_idx), \n",
    "              describe_topic(topic, feature_names, n_words))\n",
    "    return\n",
    "\n",
    "def sort_topics(components):\n",
    "    n = components.shape[0]\n",
    "    # run hierarchical clustering to find related groups of topics\n",
    "    l = linkage(components, \"ward\")\n",
    "    # calculate the id of the final cluster\n",
    "    last_id = 2 * n - 2\n",
    "    # start with the final cluster and break it into smaller clusters\n",
    "    order = [last_id]\n",
    "    for i, row in reversed(list(enumerate(l))):\n",
    "        # find the current cluster in the list and break it into two smaller clusters\n",
    "        cluster_id = n + i\n",
    "        index = order.index(cluster_id)\n",
    "        order = order[:index] + [row[0], row[1]] + order[(index+1):]\n",
    "    # sort topics by the order calcuated above and return a copy\n",
    "    components = [x[1] for x in sorted(zip(order, components))]\n",
    "    return np.array(components)\n",
    "\n",
    "def get_similarity(a, b=None):\n",
    "    n = a.shape[0]\n",
    "    # normalize the topics so that their dot product is 1\n",
    "    a = normalize(a)\n",
    "    # if only one set of topics is given, compare it to itself\n",
    "    if b is None:\n",
    "        b = a\n",
    "    else:\n",
    "        b = normalize(b)\n",
    "    # create a 2-D array to store the results of the similarity calcluation\n",
    "    topic_similarity = np.zeros((n, n))\n",
    "    # loop through each topic in both a and b\n",
    "    for topic_idx, row in enumerate(a):\n",
    "        for topic_jdx, col in enumerate(b):\n",
    "            # calculate the similarity using a dot product\n",
    "            topic_similarity[topic_idx, topic_jdx] = np.inner(row, col)\n",
    "    return topic_similarity\n",
    "\n",
    "def describe_intersection(components, a, b, feature_names, n_words=10):\n",
    "    # normalize\n",
    "    topic_a = components[a,:] / components[a,:].sum()\n",
    "    topic_b = components[b,:] / components[b,:].sum()\n",
    "    # multiply components of a and b to highlight words common in both\n",
    "    x = topic_a * topic_b\n",
    "    print(\"Words in {} and {}:\".format(a, b), \n",
    "          describe_topic(x, feature_names, n_words))\n",
    "\n",
    "def describe_difference(components, a, b, feature_names, n_words=10):\n",
    "    # normalize\n",
    "    topic_a = components[a,:] / components[a,:].sum()\n",
    "    topic_b = components[b,:] / components[b,:].sum()\n",
    "    # multiply components of a with complement of components in b\n",
    "    x = topic_a * (1 - topic_b)\n",
    "    print(\"Words in {} but not in {}:\".format(a, b), \n",
    "          describe_topic(x, feature_names, n_words))\n",
    "\n",
    "def plot_topics(components):\n",
    "    # sort topics into similar groups\n",
    "    components = sort_topics(components)\n",
    "    # calculate similarity between topics\n",
    "    topic_similarity = get_similarity(components)\n",
    "    # create a figure and plot the similarites\n",
    "    plt.figure()\n",
    "    fig, ax = plt.subplots(figsize=(8,8))\n",
    "    plt.imshow(np.log10(topic_similarity), cmap='Blues')\n",
    "    # move the ticks to the top and maker sure each topic is labeled\n",
    "    ax.xaxis.tick_top()\n",
    "    plt.xticks(range(20))\n",
    "    plt.yticks(range(20))\n",
    "    # plot a colorbar legend\n",
    "    plt.colorbar()\n",
    "    \n",
    "def plot_confusion(x, y):\n",
    "    # normalize all topics so their inner product is 1\n",
    "    a = normalize(y)\n",
    "    b = normalize(x)\n",
    "    # match topics in b with their most similar topic in a\n",
    "    sorted_b = []\n",
    "    order_b = []\n",
    "    idx_b = np.arange(x.shape[0])\n",
    "    for ta in a:\n",
    "        # of the b topics not yet assigned, find the one that best matches\n",
    "        best_b = max([(np.inner(ta, b[i,:]), i) for i in range(b.shape[0])])[1]\n",
    "        # move the b topic into the sorted list\n",
    "        sorted_b.append(b[best_b,:])\n",
    "        order_b.append(idx_b[best_b])\n",
    "        b = np.delete(b, best_b, axis=0)\n",
    "        idx_b = np.delete(idx_b, best_b, axis=0)\n",
    "    # replace b topics with the sorted version\n",
    "    b = np.array(sorted_b)\n",
    "    # find similarity\n",
    "    topic_similarity = get_similarity(a, b)\n",
    "    # create a figure and plot the similarity valuse\n",
    "    plt.figure()\n",
    "    fig, ax = plt.subplots(figsize=(8,8))\n",
    "    plt.imshow(np.log10(topic_similarity), cmap='Blues')\n",
    "    # move the ticks to the top and reorder the x ticks because b was sorted\n",
    "    ax.xaxis.tick_top()\n",
    "    plt.xticks(range(20), order_b)\n",
    "    plt.yticks(range(20))\n",
    "    # show a colorbar legend\n",
    "    plt.colorbar()"
   ]
  },
  {
   "cell_type": "markdown",
   "metadata": {},
   "source": [
    "### Step 3: Show our topics with the top words in each"
   ]
  },
  {
   "cell_type": "code",
   "execution_count": 12,
   "metadata": {},
   "outputs": [
    {
     "name": "stdout",
     "output_type": "stream",
     "text": [
      "Topic 0: really don going won people questions kid mean thought secrets\n",
      "Topic 1: years bad school believe high come told isn secret tv\n",
      "Topic 2: good enjoy night didn yes romantic haha awesome guys learned\n",
      "Topic 3: day music like eat real away love doing bed wait\n",
      "Topic 4: ve life used man girl great live relationship recently like\n",
      "Topic 5: little right oh fun movies ve afraid like movie doesn\n",
      "Topic 6: love time people way friends best need hard play think\n",
      "Topic 7: admit lol question sure work bit trying sorry hmmm songs\n",
      "Topic 8: hate hair look idea super fear dog food website words\n",
      "Topic 9: person want long talk did time mind funny totally type\n",
      "Topic 10: just ask guess answer internet makes sing want wear things\n",
      "Topic 11: know don private open book like wouldn care sense honest\n",
      "Topic 12: like thing think profile dating willing admit private online site\n",
      "Topic 13: lot probably maybe share seriously stuff went message means lost\n",
      "Topic 14: things let big ok sex public getting wish self point\n",
      "Topic 15: ll ask tell pretty meet definitely remember cats damn loud\n",
      "Topic 16: got feel im like say said times world guy date\n",
      "Topic 17: okcupid better actually old shy year watching friend secretly story\n",
      "Topic 18: new try use sleep car like having looking drink com\n",
      "Topic 19: make kind read watch later like usually left age people\n"
     ]
    }
   ],
   "source": [
    "lda_topics = sort_topics(lda.components_)\n",
    "display_topics(lda_topics, tf_feature_names, n_words=nshow)"
   ]
  },
  {
   "cell_type": "markdown",
   "metadata": {},
   "source": [
    "### Step 4: Compare topics to each other\n",
    "\n",
    "We can compare topics visually by plotting the similarity of each topic to each other topic.\n",
    "Groups of similar topics are placed closer together.\n",
    "- Why are the diagonal cells the darkest?\n",
    "- What do dark or light bands represent?\n",
    "- Do you see dark regions made of several cells? If so, what do they represent?"
   ]
  },
  {
   "cell_type": "code",
   "execution_count": 13,
   "metadata": {},
   "outputs": [
    {
     "data": {
      "text/plain": [
       "<matplotlib.figure.Figure at 0x7f5d281f1978>"
      ]
     },
     "metadata": {},
     "output_type": "display_data"
    },
    {
     "data": {
      "image/png": "[encoded data removed]",
      "text/plain": [
       "<matplotlib.figure.Figure at 0x7f5d281f1b00>"
      ]
     },
     "metadata": {},
     "output_type": "display_data"
    }
   ],
   "source": [
    "plot_topics(lda_topics)"
   ]
  },
  {
   "cell_type": "markdown",
   "metadata": {},
   "source": [
    "#### Examine the words that make two topics similar or different\n",
    "We can also compare two topics to each other by looking at words that are common in both,\n",
    "or words that are common in one but not the other.\n",
    "Try changing `topic_a` and `topic_b` to different topic numbers."
   ]
  },
  {
   "cell_type": "code",
   "execution_count": 14,
   "metadata": {},
   "outputs": [
    {
     "name": "stdout",
     "output_type": "stream",
     "text": [
      "Words in 9 and 15: ll ask tell person want pretty meet long talk did\n",
      "Words in 9 but not in 15: person want long talk did time mind funny totally type\n",
      "Words in 15 but not in 9: ll ask tell pretty meet definitely remember cats damn loud\n"
     ]
    }
   ],
   "source": [
    "topic_a = 9\n",
    "topic_b = 15\n",
    "\n",
    "describe_intersection(lda_topics, topic_a, topic_b, tf_feature_names, n_words=nshow)\n",
    "describe_difference(lda_topics, topic_a, topic_b, tf_feature_names, n_words=nshow)\n",
    "describe_difference(lda_topics, topic_b, topic_a, tf_feature_names, n_words=nshow)"
   ]
  },
  {
   "cell_type": "markdown",
   "metadata": {},
   "source": [
    "### Step 5: Interpret these topics\n",
    "- This part is for you to do: code can't do it for you.\n",
    "- Look at the list of important words for each topic, and think about these questions.\n",
    "    - What do the words have in common?\n",
    "    - What could someone write that would use most of those words?\n",
    "    - What does this topic seem to be about?\n",
    "- Try to come up with a short, catchy name for each topic.\n",
    "    - For example, if the words were \"san francisco city moved living born years raised lived live\", you might call it \"places lived\" because the topic seems to be about where people currently live (San Francisco) and where they were born / raised / moved from. \n",
    "- Try other numbers of topics.\n",
    "    - If the topics seem repetitive, you might want to try looking for fewer topics.\n",
    "    - If the topics seem confusing or vague, you might want to try looking for more topics (so that they can be more specific)."
   ]
  },
  {
   "cell_type": "markdown",
   "metadata": {},
   "source": [
    "## 1.2 NMF\n",
    "- NMF stands for Non-Negative Matrix Factorization. Just like you may have found factors in algebra class, this finds factors for the matrix of numbers representing word frequency in text. For example:\n",
    "    - $ 10 $ can be factored as $ 2 * 5 $\n",
    "    - $ x^2+3x+2 $ can be factored as $ (x+2)(x+1)$\n",
    "- It turns out that finding factors for text is a really good way of finding topics. This makes sense intuitively: factors are simple things we can combine to get the more complicated output, and topics are simple things people combine to write profiles.\n",
    "- [Learn more](https://en.wikipedia.org/wiki/Non-Negative_matrix_factorization#Text_mining) about NMF.\n",
    "\n",
    "\n",
    "### Step 1: Convert text to numbers the computer understands\n",
    "- NMF takes \"tf-idf vectors\" as input. Tf-idf stands for \"text frequency - inverse document frequency.\" \n",
    "    - Text frequency is the same as the count vectors above: how often does each word appear in the text?\n",
    "    - Inverse document frequency means we divide (\"inverse\") by the number of documents the word is in. (If everyone uses the word, it isn't very helpful for figuring out what makes people different. So this measurement looks for words that are used a lot in some documents, and not at all in others.)\n",
    "    - Here we tell it to only use the 1,000 most popular words, ignoring stop words"
   ]
  },
  {
   "cell_type": "code",
   "execution_count": 15,
   "metadata": {},
   "outputs": [
    {
     "name": "stdout",
     "output_type": "stream",
     "text": [
      "Vectorizing text by TF-IDF...\n",
      "Our transformed text has 39881 rows and 1000 columns.\n"
     ]
    }
   ],
   "source": [
    "tfidf_vectorizer = TfidfVectorizer(max_features=1000, stop_words='english')\n",
    "\n",
    "print(\"Vectorizing text by TF-IDF...\")\n",
    "tfidf_text = tfidf_vectorizer.fit_transform(documents)\n",
    "\n",
    "tmp = tfidf_text.get_shape()\n",
    "print(\"Our transformed text has\", tmp[0], \"rows and\", tmp[1], \"columns.\")"
   ]
  },
  {
   "cell_type": "markdown",
   "metadata": {},
   "source": [
    "#### The features are mostly the same as count vectors, because they are just the common words in the text"
   ]
  },
  {
   "cell_type": "code",
   "execution_count": 16,
   "metadata": {},
   "outputs": [
    {
     "name": "stdout",
     "output_type": "stream",
     "text": [
      "The first few words (alphabetically) are:\n",
      " ['10', '100', '11', '12', '14', '15', '16', '18', '20', '30', '40', 'able', 'absolutely', 'accent', 'accident', 'accidentally', 'account', 'act', 'actually', 'add']\n"
     ]
    }
   ],
   "source": [
    "tfidf_feature_names = tfidf_vectorizer.get_feature_names()\n",
    "print(\"The first few words (alphabetically) are:\\n\", tfidf_feature_names[:20])"
   ]
  },
  {
   "cell_type": "markdown",
   "metadata": {},
   "source": [
    "#### The values are different: the counts have been divided by the documents they show up in"
   ]
  },
  {
   "cell_type": "code",
   "execution_count": 17,
   "metadata": {},
   "outputs": [
    {
     "name": "stdout",
     "output_type": "stream",
     "text": [
      "Profile text:\n",
      " and say hi.\n",
      "\n",
      "TF (count) vector:\n",
      "say 1.0\n"
     ]
    }
   ],
   "source": [
    "n = 6\n",
    "\n",
    "print('Profile text:\\n', documents[n])\n",
    "print('\\nTF (count) vector:')\n",
    "show_vector(tfidf_text[n])"
   ]
  },
  {
   "cell_type": "markdown",
   "metadata": {},
   "source": [
    "### Step 2: Build a topic model using NMF\n",
    "\n",
    "- NMF is faster than LDA and often works a little better for small documents like we have here."
   ]
  },
  {
   "cell_type": "code",
   "execution_count": 18,
   "metadata": {},
   "outputs": [
    {
     "name": "stdout",
     "output_type": "stream",
     "text": [
      "Performing NMF on vectors...\n",
      "Done!\n"
     ]
    }
   ],
   "source": [
    "model = NMF(n_components=ntopics, alpha=.1, l1_ratio=.5, init='nndsvd')\n",
    "\n",
    "print('Performing NMF on vectors...')\n",
    "nmf = model.fit(tfidf_text)\n",
    "\n",
    "print('Done!')"
   ]
  },
  {
   "cell_type": "markdown",
   "metadata": {},
   "source": [
    "### Step 3: Show our topics with the top words in each"
   ]
  },
  {
   "cell_type": "code",
   "execution_count": 19,
   "metadata": {},
   "outputs": [
    {
     "name": "stdout",
     "output_type": "stream",
     "text": [
      "Topic 0: like wouldn music feel girls sing dance smell movies watching\n",
      "Topic 1: know want better let wouldn need maybe wanna dont share\n",
      "Topic 2: ask answer want question shall free honest hide questions away\n",
      "Topic 3: private wouldn things anymore thing admitted internet public share told\n",
      "Topic 4: really bad good enjoy want secrets hard loud sure kind\n",
      "Topic 5: ve got seen years times told relationship past life known\n",
      "Topic 6: ll meet answer share let talk wait save probably guess\n",
      "Topic 7: dating online site profile website thing actually trying internet using\n",
      "Topic 8: love secretly music sex movies fall romantic true watching eat\n",
      "Topic 9: tell later maybe ill ya meet date lol probably secret\n",
      "Topic 10: person meet right better morning pretty open talk share internet\n",
      "Topic 11: just kidding say want guess wait need share fun going\n",
      "Topic 12: admit willing thing things won public internet lot publicly question\n",
      "Topic 13: think sexy let question funny hmm thing hot moment cool\n",
      "Topic 14: open book pretty honest secrets life answer away sure read\n",
      "Topic 15: time spend long hard thinking lot camp band took ago\n",
      "Topic 16: people want good things life little way make shy right\n",
      "Topic 17: okcupid profile account com joined questions okc using ok filled\n",
      "Topic 18: don secrets judge care believe drink mind eat worry understand\n",
      "Topic 19: im lol dont shy freak nerd romantic guy kinda ill\n"
     ]
    }
   ],
   "source": [
    "nmf_topics = sort_topics(nmf.components_)\n",
    "display_topics(nmf_topics, tfidf_feature_names, nshow)"
   ]
  },
  {
   "cell_type": "markdown",
   "metadata": {},
   "source": [
    "### Step 4: Compare topics to each other\n",
    "We can compare topics visually by plotting the similarity of each topic to each other topic."
   ]
  },
  {
   "cell_type": "code",
   "execution_count": 20,
   "metadata": {},
   "outputs": [
    {
     "data": {
      "text/plain": [
       "<matplotlib.figure.Figure at 0x7f5d27bde080>"
      ]
     },
     "metadata": {},
     "output_type": "display_data"
    },
    {
     "data": {
      "image/png": "[encoded data removed]",
      "text/plain": [
       "<matplotlib.figure.Figure at 0x7f5d27906b70>"
      ]
     },
     "metadata": {},
     "output_type": "display_data"
    }
   ],
   "source": [
    "plot_topics(nmf_topics)"
   ]
  },
  {
   "cell_type": "markdown",
   "metadata": {},
   "source": [
    "#### Examine the words that make two topics similar or different\n",
    "We can also compare two topics to each other by looking at words that are common in both, or words that are common in one but not the other. Try changing topic_a and topic_b to different topic numbers."
   ]
  },
  {
   "cell_type": "code",
   "execution_count": 21,
   "metadata": {},
   "outputs": [
    {
     "name": "stdout",
     "output_type": "stream",
     "text": [
      "Words in 0 and 1: wouldn dont lol song songs weird getting feel maybe dance\n",
      "Words in 0 but not in 1: like wouldn music feel girls sing dance smell movies watching\n",
      "Words in 1 but not in 0: know want better let wouldn need maybe wanna dont share\n"
     ]
    }
   ],
   "source": [
    "topic_a = 0\n",
    "topic_b = 1\n",
    "\n",
    "describe_intersection(nmf_topics, topic_a, topic_b, tfidf_feature_names, n_words=nshow)\n",
    "describe_difference(nmf_topics, topic_a, topic_b, tfidf_feature_names, n_words=nshow)\n",
    "describe_difference(nmf_topics, topic_b, topic_a, tfidf_feature_names, n_words=nshow)"
   ]
  },
  {
   "cell_type": "markdown",
   "metadata": {
    "collapsed": true
   },
   "source": [
    "### Step 5: Interpret these topics\n",
    "- This part is for you to do: code can't do it for you.\n",
    "- Look at the list of important words for each topic, and think about these questions.\n",
    "    - What do the words have in common?\n",
    "    - What could someone write that would use most of those words?\n",
    "    - What does this topic seem to be about?\n",
    "- Try to come up with a short, catchy name for each topic.\n",
    "    - For example, if the words were \"san francisco city moved living born years raised lived live\", you might call it \"places lived\" because the topic seems to be about where people currently live (San Francisco) and where they were born / raised / moved from. \n",
    "- Try other numbers of topics.\n",
    "    - If the topics seem repetitive, you might want to try looking for fewer topics.\n",
    "    - If the topics seem confusing or vague, you might want to try looking for more topics (so that they can be more specific)."
   ]
  },
  {
   "cell_type": "markdown",
   "metadata": {
    "collapsed": true
   },
   "source": [
    "### Step 6: Compare the topics from LDA and NMF\n",
    "We can compare the topics visually using a confusion matrix plot.\n",
    "The NMF topics are along the X axis and the LDA are along the Y axis.\n",
    "The NMF topics are sorted to match the closest LDA topic."
   ]
  },
  {
   "cell_type": "code",
   "execution_count": 22,
   "metadata": {},
   "outputs": [
    {
     "data": {
      "text/plain": [
       "<matplotlib.figure.Figure at 0x7f5d27a0d160>"
      ]
     },
     "metadata": {},
     "output_type": "display_data"
    },
    {
     "data": {
      "image/png": "[encoded data removed]",
      "text/plain": [
       "<matplotlib.figure.Figure at 0x7f5d279a5ac8>"
      ]
     },
     "metadata": {},
     "output_type": "display_data"
    }
   ],
   "source": [
    "plot_confusion(x=nmf_topics, y=lda_topics)"
   ]
  },
  {
   "cell_type": "markdown",
   "metadata": {},
   "source": [
    "By looking at the LDA and NMF topic words and the confusion matrix, consider the following questions:\n",
    "- Do any of the topics seem to be the same in both models?\n",
    "- Are some topics in one model but not the other?\n",
    "- Do the topics you get from one of the models make more sense than the ones you get from the other?\n"
   ]
  },
  {
   "cell_type": "markdown",
   "metadata": {},
   "source": [
    "### Step 7: Compare profiles based on their topics\n",
    "For each profile, we calculate how strongly each topic appears.\n",
    "This code uses the NMF model.\n",
    "To use LDA instead, remove the `#` at the beginning of the second line."
   ]
  },
  {
   "cell_type": "code",
   "execution_count": 23,
   "metadata": {},
   "outputs": [],
   "source": [
    "model, text = nmf, tfidf_text\n",
    "#model, text = lda, tf_text\n",
    "model_doc_topic = model.transform(text)"
   ]
  },
  {
   "cell_type": "markdown",
   "metadata": {},
   "source": [
    "#### Functions to visualize and compare topics"
   ]
  },
  {
   "cell_type": "code",
   "execution_count": 24,
   "metadata": {},
   "outputs": [],
   "source": [
    "def visualize_profile(model_doc_topic, profile_id):\n",
    "    # plot a stem diagram for a single profile\n",
    "    plt.figure(figsize=(8,4))\n",
    "    plt.xticks(range(model_doc_topic.shape[1]))\n",
    "    plt.xlabel('Topic number')\n",
    "    plt.ylabel('How well this profile matches each topic')\n",
    "    plt.stem(model_doc_topic[profile_id,:])\n",
    "    \n",
    "def profile_histogram(model_doc_topic, topic_id):\n",
    "    # get profile values within a single topic\n",
    "    values = model_doc_topic[:,topic_id]\n",
    "    # calculate logarithmic bins based on smallest nonzero value\n",
    "    bins = np.logspace(np.log10(min([v for v in values if v > 0])),np.log10(0.4),50)\n",
    "    # plot the histogram\n",
    "    plt.figure(figsize=(8,4))\n",
    "    plt.ylabel('Number of profiles')\n",
    "    plt.xlabel('Amount of topic {} in profile'.format(topic_id))\n",
    "    plt.hist(values, bins=bins)\n",
    "    plt.gca().set_xscale('log')\n",
    "\n",
    "def profile_scatter(model_doc_topic, topic_x_id, topic_y_id):\n",
    "    # create a scatter plot of profiles with each axis representing one topic\n",
    "    plt.figure(figsize=(8,8))\n",
    "    plt.loglog(model_doc_topic[:,topic_x_id], model_doc_topic[:,topic_y_id], '.', markersize=1)\n",
    "    plt.xlabel('Amount of topic {}'.format(topic_x_id))\n",
    "    plt.ylabel('Amount of topic {}'.format(topic_y_id))\n",
    "    \n",
    "def topic_cooccurance(topics):\n",
    "    m = pd.DataFrame(topics).corr()\n",
    "    # create a figure and plot the similarites\n",
    "    plt.figure()\n",
    "    fig, ax = plt.subplots(figsize=(8,8))\n",
    "    plt.imshow(m, cmap='Blues')\n",
    "    plt.xticks(range(20))\n",
    "    plt.yticks(range(20))\n",
    "    plt.title('Topic co-occurance (correlation in profile data)')\n",
    "    # plot a colorbar legend\n",
    "    plt.colorbar()\n",
    "    \n",
    "def get_profiles_from_topics(data, transformed, topic1, topic2=None):\n",
    "    df = pd.DataFrame(transformed)\n",
    "    df = df.sort_values(by=topic1, ascending=False)\n",
    "    n = 10\n",
    "    match_text = ''\n",
    "    \n",
    "    if topic2 is None:\n",
    "        keep = df.head(n).sample(1)\n",
    "        pid = keep.index.values[0]\n",
    "        match_text = 'is in the top 10 profiles for topic ' + str(topic1) \n",
    "    else:\n",
    "        df2 = df.sort_values(by=topic2, ascending=False)\n",
    "        both = set()\n",
    "        idxs = {'a': df.index.values, 'b': df2.index.values}\n",
    "        seen = {'a': set(), 'b': set()}\n",
    "        i = 0\n",
    "        while len(both) < n:\n",
    "            seen['a'].add(idxs['a'][i])\n",
    "            seen['b'].add(idxs['b'][i])\n",
    "            both = seen['a'].intersection(seen['b'])\n",
    "            i += 1\n",
    "        keep = df.loc[list(both), :].sample(1)\n",
    "        pid = keep.index.values[0]        \n",
    "        \n",
    "        match_text = 'is the number '\n",
    "        match_text += str(np.where(df.index==pid)[0][0])\n",
    "        match_text += ' profile for topic '\n",
    "        match_text += str(topic1)\n",
    "        match_text += ' and the number '\n",
    "        match_text += str(np.where(df2.index==pid)[0][0])\n",
    "        match_text += ' profile for topic '\n",
    "        match_text += str(topic2)\n",
    "        \n",
    "    text = data[pid]\n",
    "    print('Profile number', pid, match_text)\n",
    "    print('Here is the text:\\n\\n', text)"
   ]
  },
  {
   "cell_type": "markdown",
   "metadata": {},
   "source": [
    "#### Plot the topic breakdown of particular profiles\n",
    "Examine different profiles by changing the value of the `pid` varible."
   ]
  },
  {
   "cell_type": "code",
   "execution_count": 25,
   "metadata": {},
   "outputs": [
    {
     "data": {
      "text/plain": [
       "<matplotlib.axes._subplots.AxesSubplot at 0x7f5d2782b780>"
      ]
     },
     "execution_count": 25,
     "metadata": {},
     "output_type": "execute_result"
    },
    {
     "data": {
      "image/png": "[encoded data removed]",
      "text/plain": [
       "<matplotlib.figure.Figure at 0x7f5d2782e588>"
      ]
     },
     "metadata": {},
     "output_type": "display_data"
    }
   ],
   "source": [
    "tmp = pd.DataFrame(model_doc_topic)\n",
    "tmp.sum(axis=1).hist()"
   ]
  },
  {
   "cell_type": "code",
   "execution_count": 26,
   "metadata": {},
   "outputs": [
    {
     "name": "stdout",
     "output_type": "stream",
     "text": [
      "i'm picky when it comes to dating. i know what i'm looking for and\n",
      "won't waste my time. or hers.\n"
     ]
    },
    {
     "data": {
      "image/png": "[encoded data removed]",
      "text/plain": [
       "<matplotlib.figure.Figure at 0x7f5d278f4ac8>"
      ]
     },
     "metadata": {},
     "output_type": "display_data"
    }
   ],
   "source": [
    "pid = 8\n",
    "\n",
    "print(documents[pid])\n",
    "visualize_profile(model_doc_topic, profile_id=pid)"
   ]
  },
  {
   "cell_type": "markdown",
   "metadata": {},
   "source": [
    "#### Look at the text of a profile that matches a specific topic well\n",
    "- This function randomly picks one of the top 10 profiles for a topic, so each time you run it you will see a different example."
   ]
  },
  {
   "cell_type": "code",
   "execution_count": 27,
   "metadata": {},
   "outputs": [
    {
     "name": "stdout",
     "output_type": "stream",
     "text": [
      "Profile number 31485 is in the top 10 profiles for topic 3\n",
      "Here is the text:\n",
      "\n",
      " i'm legally handicapped, you'd never know how, though.\n"
     ]
    }
   ],
   "source": [
    "get_profiles_from_topics(documents, model_doc_topic, topic1=3)"
   ]
  },
  {
   "cell_type": "markdown",
   "metadata": {},
   "source": [
    "#### Look at the text of a profile that matches two topics well at the same time\n",
    "- Note that some topics might not happen together very often. If this is the case, the examples we find of both together might not be very good."
   ]
  },
  {
   "cell_type": "code",
   "execution_count": 28,
   "metadata": {},
   "outputs": [
    {
     "name": "stdout",
     "output_type": "stream",
     "text": [
      "Profile number 33274 is the number 125 profile for topic 7 and the number 365 profile for topic 11\n",
      "Here is the text:\n",
      "\n",
      " you've got to ask me in person.\n"
     ]
    }
   ],
   "source": [
    "get_profiles_from_topics(documents, model_doc_topic, topic1=7, topic2=11)"
   ]
  },
  {
   "cell_type": "markdown",
   "metadata": {},
   "source": [
    "## Step 8: Visualize all of the profiles by their topic content\n",
    "We can choose a topic and plot a histogram of that topic's relevance to each of the profiles.\n",
    "- Try different topics by changing `topic_id`.\n",
    "- Are there any topics with multiple peaks? What does that mean?"
   ]
  },
  {
   "cell_type": "code",
   "execution_count": 29,
   "metadata": {},
   "outputs": [
    {
     "data": {
      "image/png": "[encoded data removed]",
      "text/plain": [
       "<matplotlib.figure.Figure at 0x7f5d277e9f28>"
      ]
     },
     "metadata": {},
     "output_type": "display_data"
    }
   ],
   "source": [
    "profile_histogram(model_doc_topic, topic_id=1)"
   ]
  },
  {
   "cell_type": "code",
   "execution_count": 30,
   "metadata": {
    "scrolled": true
   },
   "outputs": [
    {
     "data": {
      "image/png": "[encoded data removed]",
      "text/plain": [
       "<matplotlib.figure.Figure at 0x7f5d277e9588>"
      ]
     },
     "metadata": {},
     "output_type": "display_data"
    }
   ],
   "source": [
    "profile_histogram(model_doc_topic, topic_id=5)"
   ]
  },
  {
   "cell_type": "markdown",
   "metadata": {},
   "source": [
    "#### See which topics tend to appear together in text\n",
    "- This shows us something that looks similar to the topic similarity we saw before, but this time:\n",
    "    - We don't compare topics based on which words they use\n",
    "    - We do compare topics based on how often they appear in the same profile as one another\n",
    "- Why is the diagonal line so dark?"
   ]
  },
  {
   "cell_type": "code",
   "execution_count": 31,
   "metadata": {},
   "outputs": [
    {
     "data": {
      "text/plain": [
       "<matplotlib.figure.Figure at 0x7f5d28430470>"
      ]
     },
     "metadata": {},
     "output_type": "display_data"
    },
    {
     "data": {
      "image/png": "[encoded data removed]",
      "text/plain": [
       "<matplotlib.figure.Figure at 0x7f5d27bdfe80>"
      ]
     },
     "metadata": {},
     "output_type": "display_data"
    }
   ],
   "source": [
    "topic_cooccurance(model_doc_topic)"
   ]
  },
  {
   "cell_type": "markdown",
   "metadata": {},
   "source": [
    "#### Analyze the relationship between two topics using a scatter plot of all profiles\n",
    "- Try different topic combinations.\n",
    "- Do the profiles cluster into distinct groups?\n",
    "- What are the pros and cons of using a 2-D scatter plot vs the histogram above?"
   ]
  },
  {
   "cell_type": "code",
   "execution_count": 32,
   "metadata": {},
   "outputs": [
    {
     "data": {
      "image/png": "[encoded data removed]",
      "text/plain": [
       "<matplotlib.figure.Figure at 0x7f5d274d8c18>"
      ]
     },
     "metadata": {},
     "output_type": "display_data"
    }
   ],
   "source": [
    "profile_scatter(model_doc_topic, topic_x_id=5, topic_y_id=1)"
   ]
  },
  {
   "cell_type": "markdown",
   "metadata": {},
   "source": [
    "## Step 9: Who says what?\n",
    "Let's examine which topics are common to which groups of people\n",
    "\n",
    "#### Some more helper functions"
   ]
  },
  {
   "cell_type": "code",
   "execution_count": 33,
   "metadata": {},
   "outputs": [],
   "source": [
    "def top_topics(data, trait, value, n_top_topics, how='mean'):\n",
    "    topics = [col for col in data if col.startswith('topic_')]\n",
    "    data = data[data[trait] == value]\n",
    "    vals = {}\n",
    "    \n",
    "    for t in topics:\n",
    "        if how == 'mean':\n",
    "            vals[t] = data[t].mean()\n",
    "        elif how == 'count':\n",
    "            vals[t] = data[data[t] > 0][t].count()\n",
    "    vals = pd.DataFrame.from_dict(vals, orient='index')\n",
    "    vals = vals.sort_values(by=0, ascending=False).head(n_top_topics)\n",
    "    \n",
    "    return list(vals.index.values)\n",
    "\n",
    "def rank_groups(data, trait, topic, how='mean'):\n",
    "    groups = data[trait].value_counts().index.values\n",
    "    result = {}\n",
    "    \n",
    "    for g in groups:\n",
    "        if how == 'mean':\n",
    "            result[g] = data[data[trait] == g][topic].mean()\n",
    "        elif how == 'count':\n",
    "            tmp = data[data[trait] == g]\n",
    "            result[g] = tmp[tmp[topic] > 0][topic].count() / tmp.shape[0]\n",
    "    \n",
    "    r = pd.DataFrame.from_dict(result, orient='index')\n",
    "    r.columns = [topic]\n",
    "    r = r.sort_values(by=topic, ascending=False)\n",
    "    \n",
    "    return r"
   ]
  },
  {
   "cell_type": "markdown",
   "metadata": {},
   "source": [
    "#### Step 1: Merge our information about topics with our information about people"
   ]
  },
  {
   "cell_type": "code",
   "execution_count": 34,
   "metadata": {},
   "outputs": [
    {
     "data": {
      "text/html": [
       "<div>\n",
       "<style scoped>\n",
       "    .dataframe tbody tr th:only-of-type {\n",
       "        vertical-align: middle;\n",
       "    }\n",
       "\n",
       "    .dataframe tbody tr th {\n",
       "        vertical-align: top;\n",
       "    }\n",
       "\n",
       "    .dataframe thead th {\n",
       "        text-align: right;\n",
       "    }\n",
       "</style>\n",
       "<table border=\"1\" class=\"dataframe\">\n",
       "  <thead>\n",
       "    <tr style=\"text-align: right;\">\n",
       "      <th></th>\n",
       "      <th>age_group</th>\n",
       "      <th>age</th>\n",
       "      <th>body</th>\n",
       "      <th>alcohol_use</th>\n",
       "      <th>drug_use</th>\n",
       "      <th>edu</th>\n",
       "      <th>race_ethnicity</th>\n",
       "      <th>height_group</th>\n",
       "      <th>industry</th>\n",
       "      <th>kids</th>\n",
       "      <th>...</th>\n",
       "      <th>topic_10</th>\n",
       "      <th>topic_11</th>\n",
       "      <th>topic_12</th>\n",
       "      <th>topic_13</th>\n",
       "      <th>topic_14</th>\n",
       "      <th>topic_15</th>\n",
       "      <th>topic_16</th>\n",
       "      <th>topic_17</th>\n",
       "      <th>topic_18</th>\n",
       "      <th>topic_19</th>\n",
       "    </tr>\n",
       "  </thead>\n",
       "  <tbody>\n",
       "    <tr>\n",
       "      <th>0</th>\n",
       "      <td>20</td>\n",
       "      <td>22</td>\n",
       "      <td>overweight</td>\n",
       "      <td>yes</td>\n",
       "      <td>no</td>\n",
       "      <td>HS</td>\n",
       "      <td>multiple</td>\n",
       "      <td>over_6</td>\n",
       "      <td>other</td>\n",
       "      <td>no</td>\n",
       "      <td>...</td>\n",
       "      <td>0.0</td>\n",
       "      <td>0.00000</td>\n",
       "      <td>0.0</td>\n",
       "      <td>0.0</td>\n",
       "      <td>0.000000</td>\n",
       "      <td>0.000485</td>\n",
       "      <td>0.0</td>\n",
       "      <td>0.0</td>\n",
       "      <td>0.006278</td>\n",
       "      <td>0.0</td>\n",
       "    </tr>\n",
       "    <tr>\n",
       "      <th>1</th>\n",
       "      <td>30</td>\n",
       "      <td>35</td>\n",
       "      <td>average</td>\n",
       "      <td>yes</td>\n",
       "      <td>yes</td>\n",
       "      <td>unknown</td>\n",
       "      <td>White</td>\n",
       "      <td>under_6</td>\n",
       "      <td>other</td>\n",
       "      <td>no</td>\n",
       "      <td>...</td>\n",
       "      <td>0.0</td>\n",
       "      <td>0.00018</td>\n",
       "      <td>0.0</td>\n",
       "      <td>0.0</td>\n",
       "      <td>0.053504</td>\n",
       "      <td>0.000000</td>\n",
       "      <td>0.0</td>\n",
       "      <td>0.0</td>\n",
       "      <td>0.000000</td>\n",
       "      <td>0.0</td>\n",
       "    </tr>\n",
       "    <tr>\n",
       "      <th>2</th>\n",
       "      <td>30</td>\n",
       "      <td>38</td>\n",
       "      <td>thin</td>\n",
       "      <td>yes</td>\n",
       "      <td>yes</td>\n",
       "      <td>Grad_Pro</td>\n",
       "      <td>NaN</td>\n",
       "      <td>under_6</td>\n",
       "      <td>NaN</td>\n",
       "      <td>no</td>\n",
       "      <td>...</td>\n",
       "      <td>0.0</td>\n",
       "      <td>0.00000</td>\n",
       "      <td>0.0</td>\n",
       "      <td>0.0</td>\n",
       "      <td>0.000000</td>\n",
       "      <td>0.000000</td>\n",
       "      <td>0.0</td>\n",
       "      <td>0.0</td>\n",
       "      <td>0.006661</td>\n",
       "      <td>0.0</td>\n",
       "    </tr>\n",
       "    <tr>\n",
       "      <th>5</th>\n",
       "      <td>20</td>\n",
       "      <td>29</td>\n",
       "      <td>average</td>\n",
       "      <td>yes</td>\n",
       "      <td>yes</td>\n",
       "      <td>BA</td>\n",
       "      <td>White</td>\n",
       "      <td>under_6</td>\n",
       "      <td>STEM</td>\n",
       "      <td>no</td>\n",
       "      <td>...</td>\n",
       "      <td>0.0</td>\n",
       "      <td>0.00000</td>\n",
       "      <td>0.0</td>\n",
       "      <td>0.0</td>\n",
       "      <td>0.000000</td>\n",
       "      <td>0.000000</td>\n",
       "      <td>0.0</td>\n",
       "      <td>0.0</td>\n",
       "      <td>0.023731</td>\n",
       "      <td>0.0</td>\n",
       "    </tr>\n",
       "    <tr>\n",
       "      <th>6</th>\n",
       "      <td>30</td>\n",
       "      <td>32</td>\n",
       "      <td>fit</td>\n",
       "      <td>yes</td>\n",
       "      <td>no</td>\n",
       "      <td>BA</td>\n",
       "      <td>multiple</td>\n",
       "      <td>under_6</td>\n",
       "      <td>NaN</td>\n",
       "      <td>no</td>\n",
       "      <td>...</td>\n",
       "      <td>0.0</td>\n",
       "      <td>0.00000</td>\n",
       "      <td>0.0</td>\n",
       "      <td>0.0</td>\n",
       "      <td>0.001461</td>\n",
       "      <td>0.000000</td>\n",
       "      <td>0.0</td>\n",
       "      <td>0.0</td>\n",
       "      <td>0.011188</td>\n",
       "      <td>0.0</td>\n",
       "    </tr>\n",
       "  </tbody>\n",
       "</table>\n",
       "<p>5 rows × 50 columns</p>\n",
       "</div>"
      ],
      "text/plain": [
       "   age_group  age        body alcohol_use drug_use       edu race_ethnicity  \\\n",
       "0         20   22  overweight         yes       no        HS       multiple   \n",
       "1         30   35     average         yes      yes   unknown          White   \n",
       "2         30   38        thin         yes      yes  Grad_Pro            NaN   \n",
       "5         20   29     average         yes      yes        BA          White   \n",
       "6         30   32         fit         yes       no        BA       multiple   \n",
       "\n",
       "  height_group industry kids   ...    topic_10 topic_11 topic_12 topic_13  \\\n",
       "0       over_6    other   no   ...         0.0  0.00000      0.0      0.0   \n",
       "1      under_6    other   no   ...         0.0  0.00018      0.0      0.0   \n",
       "2      under_6      NaN   no   ...         0.0  0.00000      0.0      0.0   \n",
       "5      under_6     STEM   no   ...         0.0  0.00000      0.0      0.0   \n",
       "6      under_6      NaN   no   ...         0.0  0.00000      0.0      0.0   \n",
       "\n",
       "   topic_14  topic_15 topic_16 topic_17  topic_18 topic_19  \n",
       "0  0.000000  0.000485      0.0      0.0  0.006278      0.0  \n",
       "1  0.053504  0.000000      0.0      0.0  0.000000      0.0  \n",
       "2  0.000000  0.000000      0.0      0.0  0.006661      0.0  \n",
       "5  0.000000  0.000000      0.0      0.0  0.023731      0.0  \n",
       "6  0.001461  0.000000      0.0      0.0  0.011188      0.0  \n",
       "\n",
       "[5 rows x 50 columns]"
      ]
     },
     "execution_count": 34,
     "metadata": {},
     "output_type": "execute_result"
    }
   ],
   "source": [
    "topic_info = pd.DataFrame(model_doc_topic).add_prefix('topic_')\n",
    "together = profiles.merge(topic_info, left_index=True, right_index=True)\n",
    "together.head()"
   ]
  },
  {
   "cell_type": "markdown",
   "metadata": {},
   "source": [
    "#### Step 2a: See the topics that take up the most text for a given group\n",
    "- This example shows top topics for different education levels.\n",
    "- You can change the arguments to compare different groups"
   ]
  },
  {
   "cell_type": "code",
   "execution_count": 35,
   "metadata": {},
   "outputs": [
    {
     "data": {
      "text/plain": [
       "array(['age_group', 'age', 'body', 'alcohol_use', 'drug_use', 'edu',\n",
       "       'race_ethnicity', 'height_group', 'industry', 'kids', 'orientation',\n",
       "       'pets_likes', 'pets_has', 'pets_any', 'religion', 'sex', 'smoker',\n",
       "       'languages', 'text', 'essay0', 'essay1', 'essay2', 'essay3',\n",
       "       'essay4', 'essay5', 'essay6', 'essay7', 'essay8', 'essay9', 'clean',\n",
       "       'topic_0', 'topic_1', 'topic_2', 'topic_3', 'topic_4', 'topic_5',\n",
       "       'topic_6', 'topic_7', 'topic_8', 'topic_9', 'topic_10', 'topic_11',\n",
       "       'topic_12', 'topic_13', 'topic_14', 'topic_15', 'topic_16',\n",
       "       'topic_17', 'topic_18', 'topic_19'], dtype=object)"
      ]
     },
     "execution_count": 35,
     "metadata": {},
     "output_type": "execute_result"
    }
   ],
   "source": [
    "#show what information we have about people\n",
    "together.columns.values"
   ]
  },
  {
   "cell_type": "code",
   "execution_count": 36,
   "metadata": {},
   "outputs": [
    {
     "data": {
      "text/plain": [
       "BA          12968\n",
       "Grad_Pro     5469\n",
       "unknown      4693\n",
       "HS           3922\n",
       "<HS            88\n",
       "Name: edu, dtype: int64"
      ]
     },
     "execution_count": 36,
     "metadata": {},
     "output_type": "execute_result"
    }
   ],
   "source": [
    "#show what categories we have for education\n",
    "together['edu'].value_counts()"
   ]
  },
  {
   "cell_type": "code",
   "execution_count": 37,
   "metadata": {},
   "outputs": [
    {
     "data": {
      "text/plain": [
       "['topic_18', 'topic_0', 'topic_2']"
      ]
     },
     "execution_count": 37,
     "metadata": {},
     "output_type": "execute_result"
    }
   ],
   "source": [
    "#show most popular topics for High School graduates\n",
    "top_topics(data=together, trait='edu', value='HS', n_top_topics=3)"
   ]
  },
  {
   "cell_type": "code",
   "execution_count": 38,
   "metadata": {},
   "outputs": [
    {
     "data": {
      "text/plain": [
       "['topic_0', 'topic_1', 'topic_2']"
      ]
     },
     "execution_count": 38,
     "metadata": {},
     "output_type": "execute_result"
    }
   ],
   "source": [
    "#show most popular topics for people with graduate and professional degrees\n",
    "top_topics(together, 'edu', 'Grad_pro', 3)"
   ]
  },
  {
   "cell_type": "code",
   "execution_count": 39,
   "metadata": {},
   "outputs": [
    {
     "name": "stdout",
     "output_type": "stream",
     "text": [
      "Topic 0: like wouldn music feel girls sing dance smell movies watching\n",
      "Topic 1: know want better let wouldn need maybe wanna dont share\n",
      "Topic 2: ask answer want question shall free honest hide questions away\n",
      "Topic 3: private wouldn things anymore thing admitted internet public share told\n",
      "Topic 4: really bad good enjoy want secrets hard loud sure kind\n",
      "Topic 5: ve got seen years times told relationship past life known\n",
      "Topic 6: ll meet answer share let talk wait save probably guess\n",
      "Topic 7: dating online site profile website thing actually trying internet using\n",
      "Topic 8: love secretly music sex movies fall romantic true watching eat\n",
      "Topic 9: tell later maybe ill ya meet date lol probably secret\n",
      "Topic 10: person meet right better morning pretty open talk share internet\n",
      "Topic 11: just kidding say want guess wait need share fun going\n",
      "Topic 12: admit willing thing things won public internet lot publicly question\n",
      "Topic 13: think sexy let question funny hmm thing hot moment cool\n",
      "Topic 14: open book pretty honest secrets life answer away sure read\n",
      "Topic 15: time spend long hard thinking lot camp band took ago\n",
      "Topic 16: people want good things life little way make shy right\n",
      "Topic 17: okcupid profile account com joined questions okc using ok filled\n",
      "Topic 18: don secrets judge care believe drink mind eat worry understand\n",
      "Topic 19: im lol dont shy freak nerd romantic guy kinda ill\n"
     ]
    }
   ],
   "source": [
    "# show our topics again so we know what they are\n",
    "display_topics(nmf_topics, tfidf_feature_names, nshow)"
   ]
  },
  {
   "cell_type": "markdown",
   "metadata": {},
   "source": [
    "#### Step 2b: See the topics that show up even a little in the most profiles for a given group\n",
    "- Compare these with the ones above. How are they different? Why might that be? "
   ]
  },
  {
   "cell_type": "code",
   "execution_count": 40,
   "metadata": {},
   "outputs": [
    {
     "data": {
      "text/plain": [
       "['topic_18', 'topic_0', 'topic_7']"
      ]
     },
     "execution_count": 40,
     "metadata": {},
     "output_type": "execute_result"
    }
   ],
   "source": [
    "#show most popular topics for High School graduates\n",
    "top_topics(together, 'edu', 'HS', 3, how='count')"
   ]
  },
  {
   "cell_type": "code",
   "execution_count": 41,
   "metadata": {},
   "outputs": [
    {
     "data": {
      "text/plain": [
       "['topic_0', 'topic_1', 'topic_18']"
      ]
     },
     "execution_count": 41,
     "metadata": {},
     "output_type": "execute_result"
    }
   ],
   "source": [
    "#show most popular topics for people with graduate and professional degrees\n",
    "top_topics(together, 'edu', 'Grad_pro', 3, 'count')"
   ]
  },
  {
   "cell_type": "markdown",
   "metadata": {},
   "source": [
    "#### Step 3a: See the groups that have the most text about a given topic"
   ]
  },
  {
   "cell_type": "code",
   "execution_count": 42,
   "metadata": {},
   "outputs": [
    {
     "data": {
      "text/html": [
       "<div>\n",
       "<style scoped>\n",
       "    .dataframe tbody tr th:only-of-type {\n",
       "        vertical-align: middle;\n",
       "    }\n",
       "\n",
       "    .dataframe tbody tr th {\n",
       "        vertical-align: top;\n",
       "    }\n",
       "\n",
       "    .dataframe thead th {\n",
       "        text-align: right;\n",
       "    }\n",
       "</style>\n",
       "<table border=\"1\" class=\"dataframe\">\n",
       "  <thead>\n",
       "    <tr style=\"text-align: right;\">\n",
       "      <th></th>\n",
       "      <th>topic_18</th>\n",
       "    </tr>\n",
       "  </thead>\n",
       "  <tbody>\n",
       "    <tr>\n",
       "      <th>unknown</th>\n",
       "      <td>0.005274</td>\n",
       "    </tr>\n",
       "    <tr>\n",
       "      <th>Grad_Pro</th>\n",
       "      <td>0.005205</td>\n",
       "    </tr>\n",
       "    <tr>\n",
       "      <th>BA</th>\n",
       "      <td>0.005172</td>\n",
       "    </tr>\n",
       "    <tr>\n",
       "      <th>HS</th>\n",
       "      <td>0.005146</td>\n",
       "    </tr>\n",
       "    <tr>\n",
       "      <th>&lt;HS</th>\n",
       "      <td>0.004727</td>\n",
       "    </tr>\n",
       "  </tbody>\n",
       "</table>\n",
       "</div>"
      ],
      "text/plain": [
       "          topic_18\n",
       "unknown   0.005274\n",
       "Grad_Pro  0.005205\n",
       "BA        0.005172\n",
       "HS        0.005146\n",
       "<HS       0.004727"
      ]
     },
     "execution_count": 42,
     "metadata": {},
     "output_type": "execute_result"
    }
   ],
   "source": [
    "rank_groups(together, trait='edu', topic='topic_18')"
   ]
  },
  {
   "cell_type": "markdown",
   "metadata": {},
   "source": [
    "#### Step 3b: See the groups where the most profiles mention a given topic\n",
    "- Compare these with the results from 3a. Are they different? If so, how? Why might that be?"
   ]
  },
  {
   "cell_type": "code",
   "execution_count": 43,
   "metadata": {},
   "outputs": [
    {
     "data": {
      "text/html": [
       "<div>\n",
       "<style scoped>\n",
       "    .dataframe tbody tr th:only-of-type {\n",
       "        vertical-align: middle;\n",
       "    }\n",
       "\n",
       "    .dataframe tbody tr th {\n",
       "        vertical-align: top;\n",
       "    }\n",
       "\n",
       "    .dataframe thead th {\n",
       "        text-align: right;\n",
       "    }\n",
       "</style>\n",
       "<table border=\"1\" class=\"dataframe\">\n",
       "  <thead>\n",
       "    <tr style=\"text-align: right;\">\n",
       "      <th></th>\n",
       "      <th>topic_18</th>\n",
       "    </tr>\n",
       "  </thead>\n",
       "  <tbody>\n",
       "    <tr>\n",
       "      <th>Grad_Pro</th>\n",
       "      <td>0.751143</td>\n",
       "    </tr>\n",
       "    <tr>\n",
       "      <th>BA</th>\n",
       "      <td>0.745759</td>\n",
       "    </tr>\n",
       "    <tr>\n",
       "      <th>HS</th>\n",
       "      <td>0.738909</td>\n",
       "    </tr>\n",
       "    <tr>\n",
       "      <th>unknown</th>\n",
       "      <td>0.738547</td>\n",
       "    </tr>\n",
       "    <tr>\n",
       "      <th>&lt;HS</th>\n",
       "      <td>0.704545</td>\n",
       "    </tr>\n",
       "  </tbody>\n",
       "</table>\n",
       "</div>"
      ],
      "text/plain": [
       "          topic_18\n",
       "Grad_Pro  0.751143\n",
       "BA        0.745759\n",
       "HS        0.738909\n",
       "unknown   0.738547\n",
       "<HS       0.704545"
      ]
     },
     "execution_count": 43,
     "metadata": {},
     "output_type": "execute_result"
    }
   ],
   "source": [
    "rank_groups(together, trait='edu', topic='topic_18', how='count')"
   ]
  },
  {
   "cell_type": "markdown",
   "metadata": {},
   "source": [
    "# Reflection: What we've learned\n",
    "- Two statistical methods for topic modeling\n",
    "    - LDA\n",
    "    - NMF\n",
    "- Two ways to represent text as numbers\n",
    "    - TF / count vectors (counts of how often each word is used)\n",
    "    - TF-IDF vectors (counts of how often each word is used, divided by the number of documents they're used in)\n",
    "- How to think about and interpret the topics our models find\n",
    "- How to compare and relate different topics\n",
    "- Different ways to see the distribution of topics in profiles\n",
    "- Which topics are most popular with social categories of people\n",
    "- Which social categories of people discuss a topic most"
   ]
  },
  {
   "cell_type": "code",
   "execution_count": null,
   "metadata": {},
   "outputs": [],
   "source": []
  }
 ],
 "metadata": {
  "kernelspec": {
   "display_name": "Python 3",
   "language": "python",
   "name": "python3"
  },
  "language_info": {
   "codemirror_mode": {
    "name": "ipython",
    "version": 3
   },
   "file_extension": ".py",
   "mimetype": "text/x-python",
   "name": "python",
   "nbconvert_exporter": "python",
   "pygments_lexer": "ipython3",
   "version": "3.6.3"
  }
 },
 "nbformat": 4,
 "nbformat_minor": 2
}
