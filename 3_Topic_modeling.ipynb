{
 "cells": [
  {
   "cell_type": "markdown",
   "metadata": {},
   "source": [
    "# Topic Modeling Lab\n",
    "\n",
    "### To do list:\n",
    "- Use sk-learn because\n",
    "    - It has both LDA and NMF\n",
    "    - It is the same API they'll use for many stats and ML tasks\n",
    "    - There's a good example guide here: https://medium.com/@aneesha/topic-modeling-with-scikit-learn-e80d33668730\n",
    "    \n",
    "- Steps \n",
    "    - preprocessing (use 'clean' data from lab notebook 1)\n",
    "    - fitting LDA\n",
    "    - viewing, interpreting topics\n",
    "    - cross tabs of topics and personal attributes of interest\n",
    "    - fitting NMF\n",
    "    - viewing, interpreting results\n",
    "    - comparing LDA & NMF topics (deal with alignment)\n",
    "    - cross tabs\n",
    "    - compare LDA & NMF cross tabs (undermine singular, objective truth)\n",
    "    \n",
    "- Functionality\n",
    "    - Display topics found\n",
    "    - Undo stems"
   ]
  },
  {
   "cell_type": "code",
   "execution_count": 1,
   "metadata": {
    "collapsed": true
   },
   "outputs": [],
   "source": [
    "import pandas as pd\n",
    "from sklearn.feature_extraction.text import TfidfVectorizer, CountVectorizer\n",
    "from sklearn.decomposition import NMF, LatentDirichletAllocation\n",
    "from bs4 import BeautifulSoup\n",
    "import re"
   ]
  },
  {
   "cell_type": "code",
   "execution_count": 2,
   "metadata": {},
   "outputs": [
    {
     "data": {
      "text/html": [
       "<div>\n",
       "<style>\n",
       "    .dataframe thead tr:only-child th {\n",
       "        text-align: right;\n",
       "    }\n",
       "\n",
       "    .dataframe thead th {\n",
       "        text-align: left;\n",
       "    }\n",
       "\n",
       "    .dataframe tbody tr th {\n",
       "        vertical-align: top;\n",
       "    }\n",
       "</style>\n",
       "<table border=\"1\" class=\"dataframe\">\n",
       "  <thead>\n",
       "    <tr style=\"text-align: right;\">\n",
       "      <th></th>\n",
       "      <th>age_group</th>\n",
       "      <th>body</th>\n",
       "      <th>alcohol_use</th>\n",
       "      <th>drug_use</th>\n",
       "      <th>edu</th>\n",
       "      <th>race_ethnicity</th>\n",
       "      <th>height_group</th>\n",
       "      <th>industry</th>\n",
       "      <th>kids</th>\n",
       "      <th>orientation</th>\n",
       "      <th>pets_likes</th>\n",
       "      <th>pets_has</th>\n",
       "      <th>pets_any</th>\n",
       "      <th>religion</th>\n",
       "      <th>sex</th>\n",
       "      <th>smoker</th>\n",
       "      <th>languages</th>\n",
       "      <th>text</th>\n",
       "    </tr>\n",
       "  </thead>\n",
       "  <tbody>\n",
       "    <tr>\n",
       "      <th>0</th>\n",
       "      <td>20</td>\n",
       "      <td>overweight</td>\n",
       "      <td>yes</td>\n",
       "      <td>no</td>\n",
       "      <td>HS</td>\n",
       "      <td>multiple</td>\n",
       "      <td>over_6</td>\n",
       "      <td>other</td>\n",
       "      <td>no</td>\n",
       "      <td>straight</td>\n",
       "      <td>both</td>\n",
       "      <td>neither</td>\n",
       "      <td>no</td>\n",
       "      <td>none</td>\n",
       "      <td>m</td>\n",
       "      <td>yes</td>\n",
       "      <td>English_only</td>\n",
       "      <td>about me:&lt;br /&gt;\\n&lt;br /&gt;\\ni would love to think...</td>\n",
       "    </tr>\n",
       "    <tr>\n",
       "      <th>1</th>\n",
       "      <td>30</td>\n",
       "      <td>average</td>\n",
       "      <td>yes</td>\n",
       "      <td>yes</td>\n",
       "      <td>unknown</td>\n",
       "      <td>White</td>\n",
       "      <td>under_6</td>\n",
       "      <td>other</td>\n",
       "      <td>no</td>\n",
       "      <td>straight</td>\n",
       "      <td>both</td>\n",
       "      <td>neither</td>\n",
       "      <td>no</td>\n",
       "      <td>none</td>\n",
       "      <td>m</td>\n",
       "      <td>no</td>\n",
       "      <td>multiple</td>\n",
       "      <td>i am a chef: this is what that means.&lt;br /&gt;\\n1...</td>\n",
       "    </tr>\n",
       "  </tbody>\n",
       "</table>\n",
       "</div>"
      ],
      "text/plain": [
       "   age_group        body alcohol_use drug_use      edu race_ethnicity  \\\n",
       "0         20  overweight         yes       no       HS       multiple   \n",
       "1         30     average         yes      yes  unknown          White   \n",
       "\n",
       "  height_group industry kids orientation pets_likes pets_has pets_any  \\\n",
       "0       over_6    other   no    straight       both  neither       no   \n",
       "1      under_6    other   no    straight       both  neither       no   \n",
       "\n",
       "  religion sex smoker     languages  \\\n",
       "0     none   m    yes  English_only   \n",
       "1     none   m     no      multiple   \n",
       "\n",
       "                                                text  \n",
       "0  about me:<br />\\n<br />\\ni would love to think...  \n",
       "1  i am a chef: this is what that means.<br />\\n1...  "
      ]
     },
     "execution_count": 2,
     "metadata": {},
     "output_type": "execute_result"
    }
   ],
   "source": [
    "profiles = pd.read_csv('data/clean_profiles.tsv', sep='\\t')\n",
    "#profiles = profiles.sample(5000)\n",
    "profiles.head(2)"
   ]
  },
  {
   "cell_type": "code",
   "execution_count": 3,
   "metadata": {},
   "outputs": [
    {
     "data": {
      "text/html": [
       "<div>\n",
       "<style>\n",
       "    .dataframe thead tr:only-child th {\n",
       "        text-align: right;\n",
       "    }\n",
       "\n",
       "    .dataframe thead th {\n",
       "        text-align: left;\n",
       "    }\n",
       "\n",
       "    .dataframe tbody tr th {\n",
       "        vertical-align: top;\n",
       "    }\n",
       "</style>\n",
       "<table border=\"1\" class=\"dataframe\">\n",
       "  <thead>\n",
       "    <tr style=\"text-align: right;\">\n",
       "      <th></th>\n",
       "      <th>age_group</th>\n",
       "      <th>body</th>\n",
       "      <th>alcohol_use</th>\n",
       "      <th>drug_use</th>\n",
       "      <th>edu</th>\n",
       "      <th>race_ethnicity</th>\n",
       "      <th>height_group</th>\n",
       "      <th>industry</th>\n",
       "      <th>kids</th>\n",
       "      <th>orientation</th>\n",
       "      <th>pets_likes</th>\n",
       "      <th>pets_has</th>\n",
       "      <th>pets_any</th>\n",
       "      <th>religion</th>\n",
       "      <th>sex</th>\n",
       "      <th>smoker</th>\n",
       "      <th>languages</th>\n",
       "      <th>text</th>\n",
       "      <th>clean</th>\n",
       "    </tr>\n",
       "  </thead>\n",
       "  <tbody>\n",
       "    <tr>\n",
       "      <th>0</th>\n",
       "      <td>20</td>\n",
       "      <td>overweight</td>\n",
       "      <td>yes</td>\n",
       "      <td>no</td>\n",
       "      <td>HS</td>\n",
       "      <td>multiple</td>\n",
       "      <td>over_6</td>\n",
       "      <td>other</td>\n",
       "      <td>no</td>\n",
       "      <td>straight</td>\n",
       "      <td>both</td>\n",
       "      <td>neither</td>\n",
       "      <td>no</td>\n",
       "      <td>none</td>\n",
       "      <td>m</td>\n",
       "      <td>yes</td>\n",
       "      <td>English_only</td>\n",
       "      <td>about me:&lt;br /&gt;\\n&lt;br /&gt;\\ni would love to think...</td>\n",
       "      <td>about me:\\n\\ni would love to think that i was ...</td>\n",
       "    </tr>\n",
       "    <tr>\n",
       "      <th>1</th>\n",
       "      <td>30</td>\n",
       "      <td>average</td>\n",
       "      <td>yes</td>\n",
       "      <td>yes</td>\n",
       "      <td>unknown</td>\n",
       "      <td>White</td>\n",
       "      <td>under_6</td>\n",
       "      <td>other</td>\n",
       "      <td>no</td>\n",
       "      <td>straight</td>\n",
       "      <td>both</td>\n",
       "      <td>neither</td>\n",
       "      <td>no</td>\n",
       "      <td>none</td>\n",
       "      <td>m</td>\n",
       "      <td>no</td>\n",
       "      <td>multiple</td>\n",
       "      <td>i am a chef: this is what that means.&lt;br /&gt;\\n1...</td>\n",
       "      <td>i am a chef: this is what that means.\\n1. i am...</td>\n",
       "    </tr>\n",
       "  </tbody>\n",
       "</table>\n",
       "</div>"
      ],
      "text/plain": [
       "   age_group        body alcohol_use drug_use      edu race_ethnicity  \\\n",
       "0         20  overweight         yes       no       HS       multiple   \n",
       "1         30     average         yes      yes  unknown          White   \n",
       "\n",
       "  height_group industry kids orientation pets_likes pets_has pets_any  \\\n",
       "0       over_6    other   no    straight       both  neither       no   \n",
       "1      under_6    other   no    straight       both  neither       no   \n",
       "\n",
       "  religion sex smoker     languages  \\\n",
       "0     none   m    yes  English_only   \n",
       "1     none   m     no      multiple   \n",
       "\n",
       "                                                text  \\\n",
       "0  about me:<br />\\n<br />\\ni would love to think...   \n",
       "1  i am a chef: this is what that means.<br />\\n1...   \n",
       "\n",
       "                                               clean  \n",
       "0  about me:\\n\\ni would love to think that i was ...  \n",
       "1  i am a chef: this is what that means.\\n1. i am...  "
      ]
     },
     "execution_count": 3,
     "metadata": {},
     "output_type": "execute_result"
    }
   ],
   "source": [
    "def clean(text):\n",
    "    t = BeautifulSoup(text, 'lxml').get_text()\n",
    "    t = t.lower()\n",
    "    \n",
    "    bad_words = ['http', 'www', '\\nnan']\n",
    "    \n",
    "    for b in bad_words:\n",
    "        t = t.replace(b, '')\n",
    "    \n",
    "    return t\n",
    "\n",
    "profiles['clean'] = profiles.text.apply(clean)\n",
    "profiles.head(2)"
   ]
  },
  {
   "cell_type": "code",
   "execution_count": 9,
   "metadata": {},
   "outputs": [
    {
     "name": "stdout",
     "output_type": "stream",
     "text": [
      "Vectorizing text by word counts...\n",
      "Performing LDA on vectors...\n",
      "Done!\n"
     ]
    }
   ],
   "source": [
    "ntopics = 15\n",
    "documents = profiles.clean.values\n",
    "\n",
    "print(\"Vectorizing text by word counts...\")\n",
    "tf_vectorizer = CountVectorizer(max_df=0.95, min_df=2, \n",
    "                                max_features=1000, \n",
    "                                stop_words='english')\n",
    "tf = tf_vectorizer.fit_transform(documents)\n",
    "tf_feature_names = tf_vectorizer.get_feature_names()\n",
    "\n",
    "print('Performing LDA on vectors...')\n",
    "lda = LatentDirichletAllocation(n_components=ntopics, \n",
    "                                max_iter=10, \n",
    "                                learning_method='online', \n",
    "                                n_jobs=-1 ).fit(tf)\n",
    "\n",
    "print('Done!')"
   ]
  },
  {
   "cell_type": "code",
   "execution_count": 10,
   "metadata": {},
   "outputs": [
    {
     "name": "stdout",
     "output_type": "stream",
     "text": [
      "Topic 0 :   work sports enjoy friends time play working hard playing family\n",
      "Topic 1 :   like really just don ve good things pretty think ll\n",
      "Topic 2 :   love like friends good just music people family going fun\n",
      "Topic 3 :   don people like know just want life think love time\n",
      "Topic 4 :   food movies books harry potter family italian star friends thai\n",
      "Topic 5 :   san bay years francisco area moved ve school new city\n",
      "Topic 6 :   new hiking bike city things fun camping travel love biking\n",
      "Topic 7 :   music tv movies shows men bad books mad rock development\n",
      "Topic 8 :   love friends good food new family time life wine enjoy\n",
      "Topic 9 :   like people lot things books read time favorite movies reading\n",
      "Topic 10 :   things making work time working world art people make new\n",
      "Topic 11 :   life love people good looking open friends enjoy things time\n",
      "Topic 12 :   music love like food art movies books rock good dance\n",
      "Topic 13 :   games video game playing fi board sci movies play friends\n",
      "Topic 14 :   im nan dont wanna shit gonna tattoos ready tall goals\n"
     ]
    }
   ],
   "source": [
    "nshow = 10\n",
    "\n",
    "def display_topics(model, feature_names, no_top_words):\n",
    "    for topic_idx, topic in enumerate(model.components_):\n",
    "        words = \" \".join([feature_names[i] \n",
    "                          for i in topic.argsort()[:-no_top_words - 1:-1]])\n",
    "        print(\"Topic\", topic_idx, \":  \", words)\n",
    "                        \n",
    "display_topics(lda, tf_feature_names, no_top_words=nshow)"
   ]
  },
  {
   "cell_type": "code",
   "execution_count": 11,
   "metadata": {},
   "outputs": [
    {
     "name": "stdout",
     "output_type": "stream",
     "text": [
      "Vectorizing text by TF-IDF...\n",
      "Performing NMF on vectors...\n",
      "Done!\n"
     ]
    }
   ],
   "source": [
    "print(\"Vectorizing text by TF-IDF...\")\n",
    "tfidf_vectorizer = TfidfVectorizer(max_df=0.95, min_df=2, \n",
    "                                   max_features=1000, \n",
    "                                   stop_words='english')\n",
    "tfidf = tfidf_vectorizer.fit_transform(documents)\n",
    "tfidf_feature_names = tfidf_vectorizer.get_feature_names()\n",
    "\n",
    "print('Performing NMF on vectors...')\n",
    "nmf = NMF(n_components=ntopics, alpha=.1, l1_ratio=.5, init='nndsvd').fit(tfidf)\n",
    "\n",
    "print('Done!')"
   ]
  },
  {
   "cell_type": "code",
   "execution_count": 12,
   "metadata": {},
   "outputs": [
    {
     "name": "stdout",
     "output_type": "stream",
     "text": [
      "Topic 0 :   don really just ve know think ll things time say\n",
      "Topic 1 :   nan smile eyes want working hair coffee iphone phone money\n",
      "Topic 2 :   friends family hanging food time enjoy home smile dinner going\n",
      "Topic 3 :   im dont lol alot wanna life just haha know really\n",
      "Topic 4 :   music books movies food art rock shows black tv playing\n",
      "Topic 5 :   life enjoy world open live great nature share looking relationship\n",
      "Topic 6 :   bay area sf years ve work moved city year east\n",
      "Topic 7 :   love music food laugh cook dancing dance travel great really\n",
      "Topic 8 :   like lot stuff don movies things read going watch think\n",
      "Topic 9 :   new things trying try places meeting learning exploring enjoy meet\n",
      "Topic 10 :   fun looking just want guy lol know going meet working\n",
      "Topic 11 :   good food really wine humor sense pretty conversation time great\n",
      "Topic 12 :   favorite book movie enjoy movies games read time shows books\n",
      "Topic 13 :   san francisco city moved living born years raised lived live\n",
      "Topic 14 :   people making laugh make meet meeting smile feel funny notice\n"
     ]
    }
   ],
   "source": [
    "display_topics(nmf, tfidf_feature_names, nshow)"
   ]
  },
  {
   "cell_type": "code",
   "execution_count": null,
   "metadata": {
    "collapsed": true
   },
   "outputs": [],
   "source": []
  },
  {
   "cell_type": "code",
   "execution_count": null,
   "metadata": {
    "collapsed": true
   },
   "outputs": [],
   "source": []
  }
 ],
 "metadata": {
  "kernelspec": {
   "display_name": "Python 3",
   "language": "python",
   "name": "python3"
  },
  "language_info": {
   "codemirror_mode": {
    "name": "ipython",
    "version": 3
   },
   "file_extension": ".py",
   "mimetype": "text/x-python",
   "name": "python",
   "nbconvert_exporter": "python",
   "pygments_lexer": "ipython3",
   "version": "3.6.2"
  }
 },
 "nbformat": 4,
 "nbformat_minor": 2
}
